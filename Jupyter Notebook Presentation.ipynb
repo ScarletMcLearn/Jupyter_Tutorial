{
 "cells": [
  {
   "cell_type": "markdown",
   "metadata": {
    "deletable": true,
    "editable": true,
    "slideshow": {
     "slide_type": "slide"
    }
   },
   "source": [
    "<img src=\"http://blog.jupyter.org/content/images/2015/02/jupyter-sq-text.png\"\n",
    "style=\"width:100px;height:100px;float:right\">\n",
    "# Jupyter Notebook Tutorial Presentation\n",
    "\n",
    "#### Presented by Jiahui Wei\n",
    "\n",
    "This is a Jupyter Notebook tutorial. Presented at CMPS263 Winter 2017."
   ]
  },
  {
   "cell_type": "markdown",
   "metadata": {
    "deletable": true,
    "editable": true,
    "slideshow": {
     "slide_type": "subslide"
    }
   },
   "source": [
    "## Why Jupyter ?\n",
    "\n",
    "You can view & run Python code (as well as other language) along with charts, graphs and take notes with Jupyter.\n",
    "\n",
    "Jupyter is a 'Notebook' that can take notes and run code.\n",
    "\n",
    "This presentation will include:\n",
    "\n",
    "* execute code step by step while viewing and saving result\n",
    "\n",
    "* use code cell to run code and visualize data with graph and charts\n",
    "\n",
    "* use markdown cell to create notes\n",
    "\n",
    "* share notebook with others in many ways"
   ]
  },
  {
   "cell_type": "markdown",
   "metadata": {
    "deletable": true,
    "editable": true,
    "slideshow": {
     "slide_type": "slide"
    }
   },
   "source": [
    "## 1. Jupyter Notebook Built-in Commands"
   ]
  },
  {
   "cell_type": "markdown",
   "metadata": {
    "deletable": true,
    "editable": true,
    "slideshow": {
     "slide_type": "-"
    }
   },
   "source": [
    "### i. Use Jupyter as a terminal"
   ]
  },
  {
   "cell_type": "code",
   "execution_count": null,
   "metadata": {
    "collapsed": false,
    "deletable": true,
    "editable": true,
    "scrolled": true,
    "slideshow": {
     "slide_type": "-"
    }
   },
   "outputs": [],
   "source": [
    "pwd"
   ]
  },
  {
   "cell_type": "code",
   "execution_count": null,
   "metadata": {
    "collapsed": false,
    "deletable": true,
    "editable": true,
    "scrolled": true,
    "slideshow": {
     "slide_type": "-"
    }
   },
   "outputs": [],
   "source": [
    "ls"
   ]
  },
  {
   "cell_type": "markdown",
   "metadata": {
    "deletable": true,
    "editable": true,
    "slideshow": {
     "slide_type": "subslide"
    }
   },
   "source": [
    "### ii View and run *.py file in Jupyter\n",
    "\n",
    "Use\n",
    "```Shell\n",
    "$ %pycat example.py\n",
    "``` \n",
    "to view local \\*.py file.\n",
    "\n",
    "Use \n",
    "```Shell\n",
    "$ %run example.py\n",
    "```\n",
    "to run local \\*.py file."
   ]
  },
  {
   "cell_type": "code",
   "execution_count": null,
   "metadata": {
    "collapsed": false,
    "deletable": true,
    "editable": true
   },
   "outputs": [],
   "source": [
    "%pycat ./res4presentation/add_example.py"
   ]
  },
  {
   "cell_type": "code",
   "execution_count": null,
   "metadata": {
    "collapsed": false,
    "deletable": true,
    "editable": true,
    "scrolled": false
   },
   "outputs": [],
   "source": [
    "%run ./res4presentation/add_example.py"
   ]
  },
  {
   "cell_type": "markdown",
   "metadata": {
    "deletable": true,
    "editable": true,
    "slideshow": {
     "slide_type": "subslide"
    }
   },
   "source": [
    "### iii. Jupyter can write Python code into file\n",
    "\n",
    "Use \n",
    "```Shell\n",
    "$ %writefile example.py\n",
    "```\n",
    "to write code or text into a file."
   ]
  },
  {
   "cell_type": "code",
   "execution_count": null,
   "metadata": {
    "collapsed": false,
    "deletable": true,
    "editable": true
   },
   "outputs": [],
   "source": [
    "ls"
   ]
  },
  {
   "cell_type": "code",
   "execution_count": null,
   "metadata": {
    "collapsed": false,
    "deletable": true,
    "editable": true
   },
   "outputs": [],
   "source": [
    "%%writefile ./res4presentation/test.py\n",
    "#encoding utf-8\n",
    "import datetime\n",
    "\n",
    "def print_time():\n",
    "    print 'the time is:'\n",
    "    print datetime.datetime.now()\n",
    "\n",
    "print_time()"
   ]
  },
  {
   "cell_type": "code",
   "execution_count": null,
   "metadata": {
    "collapsed": true,
    "deletable": true,
    "editable": true
   },
   "outputs": [],
   "source": [
    "%pycat ./res4presentation/test.py"
   ]
  },
  {
   "cell_type": "markdown",
   "metadata": {
    "deletable": true,
    "editable": true,
    "slideshow": {
     "slide_type": "subslide"
    }
   },
   "source": [
    "### iv.  load .py file into Jupyter\n",
    "\n",
    "Use\n",
    "```Shell\n",
    "$ %load example.py\n",
    "```\n",
    "to load python file code into Jupyter"
   ]
  },
  {
   "cell_type": "code",
   "execution_count": null,
   "metadata": {
    "collapsed": false,
    "deletable": true,
    "editable": true
   },
   "outputs": [],
   "source": [
    "%load ./res4presentation/test.py"
   ]
  },
  {
   "cell_type": "markdown",
   "metadata": {
    "deletable": true,
    "editable": true,
    "slideshow": {
     "slide_type": "subslide"
    }
   },
   "source": [
    "### v. Record the run time of the code\n",
    "\n",
    "Use %%time to record time execution of a Python statement or expression."
   ]
  },
  {
   "cell_type": "code",
   "execution_count": null,
   "metadata": {
    "collapsed": false,
    "deletable": true,
    "editable": true
   },
   "outputs": [],
   "source": [
    "%%time\n",
    "import time\n",
    "sum=0\n",
    "for x in range(100):\n",
    "    sum+=x\n",
    "    time.sleep(0.01)\n",
    "print sum"
   ]
  },
  {
   "cell_type": "markdown",
   "metadata": {
    "deletable": true,
    "editable": true
   },
   "source": [
    "Use %%timeit to record average time execution of a Python statement or expression"
   ]
  },
  {
   "cell_type": "code",
   "execution_count": null,
   "metadata": {
    "collapsed": false,
    "deletable": true,
    "editable": true
   },
   "outputs": [],
   "source": [
    "%%timeit\n",
    "import time\n",
    "sum=0\n",
    "for x in range(100):\n",
    "    sum+=x\n"
   ]
  },
  {
   "cell_type": "markdown",
   "metadata": {
    "deletable": true,
    "editable": true,
    "slideshow": {
     "slide_type": "slide"
    }
   },
   "source": [
    "## 2. Use code cell to help visualize data\n",
    "\n",
    "Use matplotlib, pandas and other libraries with Jupyter to help visulaize data"
   ]
  },
  {
   "cell_type": "markdown",
   "metadata": {
    "deletable": true,
    "editable": true,
    "slideshow": {
     "slide_type": "-"
    }
   },
   "source": [
    "### i. Run simple Python code"
   ]
  },
  {
   "cell_type": "code",
   "execution_count": null,
   "metadata": {
    "collapsed": false,
    "deletable": true,
    "editable": true
   },
   "outputs": [],
   "source": [
    "1+2"
   ]
  },
  {
   "cell_type": "code",
   "execution_count": null,
   "metadata": {
    "collapsed": false,
    "deletable": true,
    "editable": true
   },
   "outputs": [],
   "source": [
    "def add_1(x,y):\n",
    "    return x+y+1\n",
    "add_1(2,3)\n",
    "print_time()"
   ]
  },
  {
   "cell_type": "markdown",
   "metadata": {
    "deletable": true,
    "editable": true,
    "slideshow": {
     "slide_type": "subslide"
    }
   },
   "source": [
    "### ii. Use matplotlib to draw graph of data\n",
    "\n",
    "Add\n",
    "```Python\n",
    "%matplotlib inline\n",
    "```\n",
    "to plot graph inside Jupyter"
   ]
  },
  {
   "cell_type": "code",
   "execution_count": null,
   "metadata": {
    "collapsed": false,
    "deletable": true,
    "editable": true
   },
   "outputs": [],
   "source": [
    "%matplotlib inline\n",
    "import matplotlib.pyplot as plt\n",
    "import numpy as np\n",
    "\n",
    "Fs = 200\n",
    "f = 2\n",
    "sample = 200\n",
    "x = np.arange(sample)\n",
    "y = np.sin(2 * np.pi * f * x / Fs)\n",
    "plt.plot(x, y)"
   ]
  },
  {
   "cell_type": "markdown",
   "metadata": {
    "deletable": true,
    "editable": true,
    "slideshow": {
     "slide_type": "subslide"
    }
   },
   "source": [
    "[Seaborn](http://seaborn.pydata.org/index.html) is a plotting library for Python that uses matplotlib underneath the hood. It provides for a number of plotting types that don't exist in matplotlib. \n",
    "\n",
    "*The example used below is from [here](https://github.com/welchr/csg-jupyter-tutorial/blob/master/csg_jupyter_tutorial.ipynb)*"
   ]
  },
  {
   "cell_type": "code",
   "execution_count": null,
   "metadata": {
    "collapsed": false,
    "deletable": true,
    "editable": true
   },
   "outputs": [],
   "source": [
    "%matplotlib inline\n",
    "import numpy as np\n",
    "from scipy.stats import kendalltau\n",
    "import seaborn as sns\n",
    "\n",
    "rs = np.random.RandomState(20)\n",
    "x = rs.normal(size=1000)\n",
    "y = -.5 * x + rs.normal(size=1000)\n",
    "\n",
    "ax = sns.jointplot(x, y, kind=\"hex\")"
   ]
  },
  {
   "cell_type": "markdown",
   "metadata": {
    "deletable": true,
    "editable": true,
    "slideshow": {
     "slide_type": "subslide"
    }
   },
   "source": [
    "### iii. Use pandas to show the results of data frame"
   ]
  },
  {
   "cell_type": "code",
   "execution_count": null,
   "metadata": {
    "collapsed": false,
    "deletable": true,
    "editable": true
   },
   "outputs": [],
   "source": [
    "import numpy as np\n",
    "import pandas\n",
    "\n",
    "def get_df():\n",
    "    data_frame = pandas.read_csv('./res4presentation/data-text.csv', sep=',')\n",
    "    return data_frame\n",
    "\n",
    "get_df()"
   ]
  },
  {
   "cell_type": "markdown",
   "metadata": {
    "deletable": true,
    "editable": true,
    "slideshow": {
     "slide_type": "slide"
    }
   },
   "source": [
    "## 3. Use markdown cell to keep notes"
   ]
  },
  {
   "cell_type": "markdown",
   "metadata": {
    "deletable": true,
    "editable": true
   },
   "source": [
    "There is a example of a markdown below. "
   ]
  },
  {
   "cell_type": "markdown",
   "metadata": {
    "deletable": true,
    "editable": true,
    "slideshow": {
     "slide_type": "subslide"
    }
   },
   "source": [
    "# A First Level Headline\n",
    "\n",
    "Use \\*word\\* to show *Italic* \n",
    "\n",
    "Use \\*\\*word\\*\\* to show **bold**. \n",
    "\n",
    "Itemized lists look like:\n",
    "\n",
    "  * this one\n",
    "  * that one\n",
    "\n",
    "Here's a numbered list:\n",
    "\n",
    " 1. first item\n",
    " 2. second item\n",
    " 3. third item\n",
    "\n",
    "## A Second Level Headline\n",
    "\n",
    "You can add code block into the cell like this:\n",
    "\n",
    "This is a python code block\n",
    "```Python\n",
    "import time\n",
    "# Quick, count from 0 to 9!\n",
    "for i in range(10):\n",
    "    # wait for a while\n",
    "    time.sleep(0.5)\n",
    "    print i\n",
    "```\n",
    "This is a C++ code block\n",
    "```C++\n",
    "#include<iostream>\n",
    "usig namespace std;\n",
    "int main(){\n",
    "cout<<\"Hello World!\"<<endl;\n",
    "}\n",
    "```\n",
    "\n",
    "### A Third Level Headline\n",
    "\n",
    "Here's a link to [a website](http://www.ucsc.edu), to a [local\n",
    "file](./Sample_im.jpg).\n",
    "\n",
    "Inline math equations go in like so: $\\int_0^{+\\infty} x^2 dx$. Display\n",
    "math should get its own line and be put in in double-dollarsigns:\n",
    "$$\\int_0^{+\\infty} x^2 dx$$\n",
    "Images can also be added into markdown cell\n",
    "\n",
    "<img src=\"./res4presentation/Sample_im.jpg\"\n",
    "style=\"width:320px;height:240px;float:center\">"
   ]
  },
  {
   "cell_type": "markdown",
   "metadata": {
    "deletable": true,
    "editable": true
   },
   "source": [
    "*Markdown example used from [here](http://www.unexpected-vortices.com/sw/rippledoc/quick-markdown-example.html#an-h2-header) with some edits*"
   ]
  },
  {
   "cell_type": "markdown",
   "metadata": {
    "deletable": true,
    "editable": true,
    "slideshow": {
     "slide_type": "subslide"
    }
   },
   "source": [
    "### i. Basic Text edit"
   ]
  },
  {
   "cell_type": "markdown",
   "metadata": {
    "deletable": true,
    "editable": true
   },
   "source": [
    "# A First Level Headline\n",
    "\n",
    "Use \\*word\\* to show *Italic* \n",
    "\n",
    "Use \\*\\*word\\*\\* to show **bold**. \n",
    "\n",
    "Itemized lists look like:\n",
    "\n",
    "  * this one\n",
    "  * that one\n",
    "\n",
    "Here's a numbered list:\n",
    "\n",
    " 1. first item\n",
    " 2. second item\n",
    " 3. third item\n"
   ]
  },
  {
   "cell_type": "markdown",
   "metadata": {
    "deletable": true,
    "editable": true,
    "slideshow": {
     "slide_type": "subslide"
    }
   },
   "source": [
    "### ii. Code Block"
   ]
  },
  {
   "cell_type": "markdown",
   "metadata": {
    "deletable": true,
    "editable": true
   },
   "source": [
    "Code block can be highlighted according to the language\n",
    "\n",
    "This is a python code block\n",
    "```Python\n",
    "import time\n",
    "# Quick, count from 0 to 9!\n",
    "for i in range(10):\n",
    "    # wait for a while\n",
    "    time.sleep(0.5)\n",
    "    print i\n",
    "```\n",
    "This is a C++ code block\n",
    "```C++\n",
    "#include<iostream>\n",
    "usig namespace std;\n",
    "int main(){\n",
    "cout<<\"Hello World!\"<<endl;\n",
    "}\n",
    "```"
   ]
  },
  {
   "cell_type": "markdown",
   "metadata": {
    "deletable": true,
    "editable": true,
    "slideshow": {
     "slide_type": "subslide"
    }
   },
   "source": [
    "### iii. Links"
   ]
  },
  {
   "cell_type": "markdown",
   "metadata": {
    "collapsed": false,
    "deletable": true,
    "editable": true
   },
   "source": [
    "[Link to offline Pictures](./res4presentation/Sample_im.jpg)\n",
    "\n",
    "[Link to online website](http://www.ucsc.edu)\n",
    "\n",
    "Another type of link <http://www.ucsc.edu>\n",
    "\n"
   ]
  },
  {
   "cell_type": "markdown",
   "metadata": {
    "deletable": true,
    "editable": true,
    "slideshow": {
     "slide_type": "subslide"
    }
   },
   "source": [
    "### iv. Latex\n",
    "Latex can also be used in Jupyter to write math expression"
   ]
  },
  {
   "cell_type": "markdown",
   "metadata": {
    "deletable": true,
    "editable": true
   },
   "source": [
    "This is an expression as a single expression\n",
    "$$\\int_0^2 x^2 dx$$\n",
    "\n",
    "Inline expression is also supported, for example, $\\int^2_0 x^2 dx$"
   ]
  },
  {
   "cell_type": "markdown",
   "metadata": {
    "deletable": true,
    "editable": true,
    "slideshow": {
     "slide_type": "subslide"
    }
   },
   "source": [
    "### v. Images\n",
    "\n",
    "Images can be added like links."
   ]
  },
  {
   "cell_type": "markdown",
   "metadata": {
    "deletable": true,
    "editable": true
   },
   "source": [
    "![Image](./res4presentation/Sample_im.jpg)"
   ]
  },
  {
   "cell_type": "markdown",
   "metadata": {
    "deletable": true,
    "editable": true
   },
   "source": [
    "We can use HTML style to edit image size and position\n",
    "\n",
    "<img src=\"./res4presentation/Sample_im.jpg\"\n",
    "style=\"width:320px;height:240px;float:left\"> "
   ]
  },
  {
   "cell_type": "markdown",
   "metadata": {
    "deletable": true,
    "editable": true,
    "slideshow": {
     "slide_type": "subslide"
    }
   },
   "source": [
    "### vi. Video\n",
    "We can also add videos in Jupyter"
   ]
  },
  {
   "cell_type": "code",
   "execution_count": null,
   "metadata": {
    "collapsed": false,
    "deletable": true,
    "editable": true,
    "scrolled": false
   },
   "outputs": [],
   "source": [
    "%%html\n",
    "<iframe width=\"560\" height=\"315\" src=\"https://www.youtube.com/embed/HW29067qVWk\" frameborder=\"0\" allowfullscreen></iframe>"
   ]
  },
  {
   "cell_type": "markdown",
   "metadata": {
    "deletable": true,
    "editable": true,
    "slideshow": {
     "slide_type": "slide"
    }
   },
   "source": [
    "## 4. Export \\*.ipynb file to other formats to share with others"
   ]
  },
  {
   "cell_type": "markdown",
   "metadata": {
    "deletable": true,
    "editable": true
   },
   "source": [
    "### i. Github\n",
    "\n",
    "Github can load \\*.ipynb file, here is [example1](https://github.com/jhwei/Jupyter_Tutorial/blob/master/Jupyter%20Notebook%20Presentation.ipynb) and [example2](https://github.com/jhwei/Jupyter_Tutorial/blob/master/Jupyter%20Notebook%20Presentation%20With%20Execution.ipynb)\n",
    "\n",
    "### ii. Export to other formats\n",
    "\n",
    "Goto **File**->**Download as** to select the file format you want to export to.\n",
    "\n",
    "Or you can type the following command in terminal\n",
    "```\n",
    "$ jupyter nbconvert --to FORMAT notebook.ipynb\n",
    "```\n",
    "\n",
    "* FORMAT means the file format you want to export to, such as, pdf, html\n",
    "* you may need to install latex and other software depending on your computer\n",
    "* please refer to the error to see if some software is missing if you don't succeed\n",
    "\n",
    "### iii. Several useful format\n",
    "\n",
    "* An example of [html without execution](./output_format/Jupyter+Notebook+Presentation.html) and [html with execution](./output_format/Jupyter+Notebook+Presentation+With+Execution.html)\n",
    "\n",
    "* An example of [pdf](./output_format/Jupyter+Notebook+Presentation.pdf) (using nbconvert) and [pdf](./output_format/Jupyter Notebook Presentation With Execution.pdf) (convert from html)\n",
    "* An example of [py](./output_format/Jupyter+Notebook+Presentation.py)"
   ]
  },
  {
   "cell_type": "markdown",
   "metadata": {
    "deletable": true,
    "editable": true,
    "slideshow": {
     "slide_type": "slide"
    }
   },
   "source": [
    "## 5. Useful Resources"
   ]
  },
  {
   "cell_type": "markdown",
   "metadata": {
    "deletable": true,
    "editable": true
   },
   "source": [
    "Offical Documentation <https://jupyter.readthedocs.io/en/latest/index.html>\n",
    "\n",
    "Markdown syntx Document from Github <https://guides.github.com/features/mastering-markdown/>\n",
    "\n",
    "Jupyter with other programming languages <https://github.com/jupyter/jupyter/wiki/Jupyter-kernels>\n",
    "\n",
    "Some nice Jupyter examples <http://nb.bianp.net/sort/views/>\n",
    "\n",
    "Another good Jupyter tutorial <https://github.com/welchr/csg-jupyter-tutorial>\n",
    "\n",
    "Turn Jupyter to presentation slides with RISE <https://github.com/damianavila/RISE> \n",
    "\n",
    "Combine Jupyter with WordPress <http://www.mianchen.com/wordpress-blogging-with-jupyter-notebook-in-five-simple-steps/>"
   ]
  }
 ],
 "metadata": {
  "celltoolbar": "Slideshow",
  "kernelspec": {
   "display_name": "Python 2",
   "language": "python",
   "name": "python2"
  },
  "language_info": {
   "codemirror_mode": {
    "name": "ipython",
    "version": 2
   },
   "file_extension": ".py",
   "mimetype": "text/x-python",
   "name": "python",
   "nbconvert_exporter": "python",
   "pygments_lexer": "ipython2",
   "version": "2.7.12"
  }
 },
 "nbformat": 4,
 "nbformat_minor": 2
}
