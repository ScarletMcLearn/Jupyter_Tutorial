{
 "cells": [
  {
   "cell_type": "markdown",
   "metadata": {
    "deletable": true,
    "editable": true,
    "slideshow": {
     "slide_type": "slide"
    }
   },
   "source": [
    "<img src=\"http://blog.jupyter.org/content/images/2015/02/jupyter-sq-text.png\"\n",
    "style=\"width:100px;height:100px;float:right\">\n",
    "# Jupyter Notebook Tutorial (Presentation Version)\n",
    "\n",
    "#### Presented by Jiahui Wei\n",
    "\n",
    "This is a Jupyter Notebook tutorial. Presented at CMPS263 Winter 2017.\n",
    "\n",
    "The tutorial will include:\n",
    "* Jupyter Notebook built-in commands\n",
    "* Use code cell to help visualize data \n",
    "* Use markdown cell to keep notes\n",
    "* Export ipynb file to other format"
   ]
  },
  {
   "cell_type": "markdown",
   "metadata": {
    "deletable": true,
    "editable": true,
    "slideshow": {
     "slide_type": "slide"
    }
   },
   "source": [
    "## 1. Jupyter Notebook Built-in Commands"
   ]
  },
  {
   "cell_type": "markdown",
   "metadata": {
    "deletable": true,
    "editable": true,
    "slideshow": {
     "slide_type": "fragment"
    }
   },
   "source": [
    "### i. Use Jupyter as a terminal"
   ]
  },
  {
   "cell_type": "code",
   "execution_count": 1,
   "metadata": {
    "collapsed": false,
    "deletable": true,
    "editable": true,
    "scrolled": true,
    "slideshow": {
     "slide_type": "-"
    }
   },
   "outputs": [
    {
     "data": {
      "text/plain": [
       "u'/home/wjh/Jupyter_tutorial'"
      ]
     },
     "execution_count": 1,
     "metadata": {},
     "output_type": "execute_result"
    }
   ],
   "source": [
    "pwd"
   ]
  },
  {
   "cell_type": "code",
   "execution_count": 4,
   "metadata": {
    "collapsed": false,
    "deletable": true,
    "editable": true,
    "scrolled": true,
    "slideshow": {
     "slide_type": "-"
    }
   },
   "outputs": [
    {
     "name": "stdout",
     "output_type": "stream",
     "text": [
      "add_example.py                       Jupyter with Matlab example.ipynb\r\n",
      "data-text.csv                        README.md\r\n",
      "Jupyter Notebook Handout.ipynb       \u001b[0m\u001b[01;35mSample_im.jpg\u001b[0m\r\n",
      "Jupyter Notebook Presentation.ipynb  test.py\r\n"
     ]
    }
   ],
   "source": [
    "ls"
   ]
  },
  {
   "cell_type": "code",
   "execution_count": 5,
   "metadata": {
    "collapsed": false,
    "deletable": true,
    "editable": true,
    "slideshow": {
     "slide_type": "-"
    }
   },
   "outputs": [
    {
     "name": "stdout",
     "output_type": "stream",
     "text": [
      "Hello\n"
     ]
    }
   ],
   "source": [
    "%%bash\n",
    "echo \"Hello\""
   ]
  },
  {
   "cell_type": "markdown",
   "metadata": {
    "deletable": true,
    "editable": true,
    "slideshow": {
     "slide_type": "subslide"
    }
   },
   "source": [
    "### ii View and run *.py file in Jupyter\n",
    "\n",
    "Use\n",
    "```Shell\n",
    "$ %pycat example.py\n",
    "``` \n",
    "to view local \\*.py file.\n",
    "\n",
    "Use \n",
    "```Shell\n",
    "$ %run example.py\n",
    "```\n",
    "to run local \\*.py file."
   ]
  },
  {
   "cell_type": "code",
   "execution_count": 17,
   "metadata": {
    "collapsed": false,
    "deletable": true,
    "editable": true,
    "slideshow": {
     "slide_type": "-"
    }
   },
   "outputs": [
    {
     "name": "stdout",
     "output_type": "stream",
     "text": [
      "add_example.py                       Jupyter with Matlab example.ipynb\r\n",
      "data-text.csv                        README.md\r\n",
      "Jupyter Notebook Handout.ipynb       \u001b[0m\u001b[01;35mSample_im.jpg\u001b[0m\r\n",
      "Jupyter Notebook Presentation.ipynb  test.py\r\n"
     ]
    }
   ],
   "source": [
    "ls"
   ]
  },
  {
   "cell_type": "code",
   "execution_count": 18,
   "metadata": {
    "collapsed": false,
    "deletable": true,
    "editable": true
   },
   "outputs": [],
   "source": [
    "%pycat add_example.py"
   ]
  },
  {
   "cell_type": "code",
   "execution_count": 19,
   "metadata": {
    "collapsed": false,
    "deletable": true,
    "editable": true,
    "scrolled": true
   },
   "outputs": [
    {
     "name": "stdout",
     "output_type": "stream",
     "text": [
      "7\n"
     ]
    },
    {
     "data": {
      "text/plain": [
       "<matplotlib.figure.Figure at 0x7fb3a9829750>"
      ]
     },
     "metadata": {},
     "output_type": "display_data"
    }
   ],
   "source": [
    "%run add_example.py"
   ]
  },
  {
   "cell_type": "markdown",
   "metadata": {
    "deletable": true,
    "editable": true,
    "slideshow": {
     "slide_type": "subslide"
    }
   },
   "source": [
    "### iii. Jupyter can write Python code into file\n",
    "\n",
    "Use \n",
    "```Shell\n",
    "$ %writefile example.py\n",
    "```\n",
    "to write code or text into a file."
   ]
  },
  {
   "cell_type": "code",
   "execution_count": 9,
   "metadata": {
    "collapsed": false,
    "deletable": true,
    "editable": true
   },
   "outputs": [
    {
     "name": "stdout",
     "output_type": "stream",
     "text": [
      "add_example.py                       Jupyter with Matlab example.ipynb\r\n",
      "data-text.csv                        README.md\r\n",
      "Jupyter Notebook Handout.ipynb       \u001b[0m\u001b[01;35mSample_im.jpg\u001b[0m\r\n",
      "Jupyter Notebook Presentation.ipynb  test.py\r\n"
     ]
    }
   ],
   "source": [
    "ls"
   ]
  },
  {
   "cell_type": "code",
   "execution_count": 29,
   "metadata": {
    "collapsed": false,
    "deletable": true,
    "editable": true
   },
   "outputs": [
    {
     "name": "stdout",
     "output_type": "stream",
     "text": [
      "Overwriting test.py\n"
     ]
    }
   ],
   "source": [
    "%%writefile test.py\n",
    "#encoding utf-8\n",
    "import datetime\n",
    "\n",
    "def print_time():\n",
    "    print 'the time is:'\n",
    "    print datetime.datetime.now()\n",
    "\n",
    "print_time()"
   ]
  },
  {
   "cell_type": "code",
   "execution_count": null,
   "metadata": {
    "collapsed": true,
    "deletable": true,
    "editable": true
   },
   "outputs": [],
   "source": [
    "%pycat test.py"
   ]
  },
  {
   "cell_type": "markdown",
   "metadata": {
    "deletable": true,
    "editable": true,
    "slideshow": {
     "slide_type": "subslide"
    }
   },
   "source": [
    "### iv.  load .py file into Jupyter\n",
    "\n",
    "Use\n",
    "```Shell\n",
    "$ %load example.py\n",
    "```\n",
    "to load python file code into Jupyter"
   ]
  },
  {
   "cell_type": "code",
   "execution_count": null,
   "metadata": {
    "collapsed": false,
    "deletable": true,
    "editable": true
   },
   "outputs": [],
   "source": [
    "%load test.py"
   ]
  },
  {
   "cell_type": "markdown",
   "metadata": {
    "deletable": true,
    "editable": true,
    "slideshow": {
     "slide_type": "subslide"
    }
   },
   "source": [
    "### v. Record the run time of the code\n",
    "\n",
    "Use %%time to record time execution of a Python statement or expression."
   ]
  },
  {
   "cell_type": "code",
   "execution_count": 10,
   "metadata": {
    "collapsed": false,
    "deletable": true,
    "editable": true
   },
   "outputs": [
    {
     "name": "stdout",
     "output_type": "stream",
     "text": [
      "CPU times: user 24 ms, sys: 24 ms, total: 48 ms\n",
      "Wall time: 10.3 s\n"
     ]
    }
   ],
   "source": [
    "%%time\n",
    "import time\n",
    "sum=0\n",
    "for x in range(1000):\n",
    "    sum+=x\n",
    "    time.sleep(0.01)"
   ]
  },
  {
   "cell_type": "markdown",
   "metadata": {
    "deletable": true,
    "editable": true
   },
   "source": [
    "Use %%timeit to record average time execution of a Python statement or expression"
   ]
  },
  {
   "cell_type": "code",
   "execution_count": 11,
   "metadata": {
    "collapsed": false,
    "deletable": true,
    "editable": true
   },
   "outputs": [
    {
     "name": "stdout",
     "output_type": "stream",
     "text": [
      "100000 loops, best of 3: 4.99 µs per loop\n"
     ]
    }
   ],
   "source": [
    "%%timeit \n",
    "x = range(1000)"
   ]
  },
  {
   "cell_type": "markdown",
   "metadata": {
    "deletable": true,
    "editable": true,
    "slideshow": {
     "slide_type": "slide"
    }
   },
   "source": [
    "## 2. Use code cell to help visualize data\n",
    "\n",
    "Use matplotlib, pandas and other libraries with Jupyter to help visulaize data"
   ]
  },
  {
   "cell_type": "markdown",
   "metadata": {
    "deletable": true,
    "editable": true,
    "slideshow": {
     "slide_type": "fragment"
    }
   },
   "source": [
    "### i. Run simple Python code"
   ]
  },
  {
   "cell_type": "code",
   "execution_count": 12,
   "metadata": {
    "collapsed": false,
    "deletable": true,
    "editable": true
   },
   "outputs": [
    {
     "data": {
      "text/plain": [
       "3"
      ]
     },
     "execution_count": 12,
     "metadata": {},
     "output_type": "execute_result"
    }
   ],
   "source": [
    "1+2"
   ]
  },
  {
   "cell_type": "code",
   "execution_count": 13,
   "metadata": {
    "collapsed": false,
    "deletable": true,
    "editable": true
   },
   "outputs": [
    {
     "name": "stdout",
     "output_type": "stream",
     "text": [
      "3\n"
     ]
    }
   ],
   "source": [
    "a=1\n",
    "b=2\n",
    "print a+b"
   ]
  },
  {
   "cell_type": "markdown",
   "metadata": {
    "deletable": true,
    "editable": true,
    "slideshow": {
     "slide_type": "subslide"
    }
   },
   "source": [
    "### ii. Use matplotlib to draw graph of data\n",
    "\n",
    "Add\n",
    "```Python\n",
    "%matplotlib inline\n",
    "```\n",
    "to plot graph inside Jupyter"
   ]
  },
  {
   "cell_type": "code",
   "execution_count": 14,
   "metadata": {
    "collapsed": false,
    "deletable": true,
    "editable": true
   },
   "outputs": [
    {
     "data": {
      "text/plain": [
       "[<matplotlib.lines.Line2D at 0x7fb3a98b6210>]"
      ]
     },
     "execution_count": 14,
     "metadata": {},
     "output_type": "execute_result"
    },
    {
     "data": {
      "image/png": "[encoded data removed]",
      "text/plain": [
       "<matplotlib.figure.Figure at 0x7fb3ae671710>"
      ]
     },
     "metadata": {},
     "output_type": "display_data"
    }
   ],
   "source": [
    "import numpy as np\n",
    "import matplotlib.pyplot as plt\n",
    "%matplotlib inline\n",
    "x = np.arange(20)\n",
    "y = x**2\n",
    "plt.plot(x, y)"
   ]
  },
  {
   "cell_type": "markdown",
   "metadata": {
    "deletable": true,
    "editable": true,
    "slideshow": {
     "slide_type": "subslide"
    }
   },
   "source": [
    "[Seaborn](https://stanford.edu/~mwaskom/software/seaborn/api.html) is a plotting library for Python that uses matplotlib underneath the hood. It provides for a number of plotting types that don't exist in matplotlib. "
   ]
  },
  {
   "cell_type": "code",
   "execution_count": 15,
   "metadata": {
    "collapsed": false,
    "deletable": true,
    "editable": true
   },
   "outputs": [
    {
     "data": {
      "image/png": "[encoded data removed]",
      "text/plain": [
       "<matplotlib.figure.Figure at 0x7fb39efe4ed0>"
      ]
     },
     "metadata": {},
     "output_type": "display_data"
    }
   ],
   "source": [
    "%matplotlib inline\n",
    "import numpy as np\n",
    "from scipy.stats import kendalltau\n",
    "import seaborn as sns\n",
    "sns.set(style=\"ticks\")\n",
    "\n",
    "rs = np.random.RandomState(11)\n",
    "x = rs.gamma(2, size=1000)\n",
    "y = -.5 * x + rs.normal(size=1000)\n",
    "\n",
    "ax = sns.jointplot(x, y, kind=\"hex\", stat_func=kendalltau, color=\"#4CB391\")"
   ]
  },
  {
   "cell_type": "markdown",
   "metadata": {
    "deletable": true,
    "editable": true
   },
   "source": [
    "Seaborn example used from [here](https://github.com/welchr/csg-jupyter-tutorial/blob/master/csg_jupyter_tutorial.ipynb)"
   ]
  },
  {
   "cell_type": "markdown",
   "metadata": {
    "deletable": true,
    "editable": true,
    "slideshow": {
     "slide_type": "subslide"
    }
   },
   "source": [
    "### iii. Use pandas to show the results of data frame"
   ]
  },
  {
   "cell_type": "code",
   "execution_count": null,
   "metadata": {
    "collapsed": false,
    "deletable": true,
    "editable": true
   },
   "outputs": [],
   "source": [
    "import numpy as np\n",
    "import pandas\n",
    "\n",
    "def get_df():\n",
    "    data_frame = pandas.read_csv('data-text.csv', sep=',')\n",
    "    return data_frame\n",
    "\n",
    "get_df()"
   ]
  },
  {
   "cell_type": "markdown",
   "metadata": {
    "deletable": true,
    "editable": true,
    "slideshow": {
     "slide_type": "slide"
    }
   },
   "source": [
    "## 3. Use markdown cell to keep notes"
   ]
  },
  {
   "cell_type": "markdown",
   "metadata": {
    "deletable": true,
    "editable": true
   },
   "source": [
    "There is a example of a markdown below. "
   ]
  },
  {
   "cell_type": "markdown",
   "metadata": {
    "deletable": true,
    "editable": true,
    "slideshow": {
     "slide_type": "subslide"
    }
   },
   "source": [
    "# A First Level Headline\n",
    "\n",
    "2nd paragraph. *Italic*, **bold**. Itemized lists\n",
    "look like:\n",
    "\n",
    "  * this one\n",
    "  * that one\n",
    "\n",
    "Here's a numbered list:\n",
    "\n",
    " 1. first item\n",
    " 2. second item\n",
    " 3. third item\n",
    "\n",
    "You can add code block into the cell like this:\n",
    "\n",
    "This is a python code block\n",
    "```Python\n",
    "import time\n",
    "# Quick, count to ten!\n",
    "for i in range(10):\n",
    "    # (but not *too* quick)\n",
    "    time.sleep(0.5)\n",
    "    print i\n",
    "```\n",
    "This is a C++ code block\n",
    "```C++\n",
    "#include<iostream>\n",
    "usig namespace std;\n",
    "int main()\n",
    "{\n",
    "cout<<\"Hello World!\"<<endl;\n",
    "}\n",
    "```\n",
    "\n",
    "## A Second Level Headline\n",
    "\n",
    "Here's a link to [a website](http://www.ucsc.edu), to a [local\n",
    "file](./Background.jpg).\n",
    "\n",
    "Inline math equations go in like so: $\\int_0^{+\\infty} x^2 dx$. Display\n",
    "math should get its own line and be put in in double-dollarsigns:\n",
    "\n",
    "$$\\int_0^{+\\infty} x^2 dx$$\n",
    "\n",
    "Images can also be added into markdown cell\n",
    "\n",
    "<img src=\"./Sample_im.jpg\"\n",
    "style=\"width:320px;height:240px;float:center\">"
   ]
  },
  {
   "cell_type": "markdown",
   "metadata": {
    "deletable": true,
    "editable": true
   },
   "source": [
    "*Markdown example used from [here](http://www.unexpected-vortices.com/sw/rippledoc/quick-markdown-example.html#an-h2-header) with some edits*"
   ]
  },
  {
   "cell_type": "markdown",
   "metadata": {
    "deletable": true,
    "editable": true,
    "slideshow": {
     "slide_type": "subslide"
    }
   },
   "source": [
    "### i. Basic Text edit"
   ]
  },
  {
   "cell_type": "markdown",
   "metadata": {
    "deletable": true,
    "editable": true
   },
   "source": [
    "Paragraphs are separated by a blank line.\n",
    "\n",
    "2nd paragraph. *Italic*, **bold**, and `monospace`. Itemized lists\n",
    "look like:\n",
    "\n",
    "  * this one\n",
    "  * that one\n",
    "  \n",
    "Here's a numbered list:\n",
    "\n",
    " 1. first item\n",
    " 2. second item\n",
    " 3. third item"
   ]
  },
  {
   "cell_type": "markdown",
   "metadata": {
    "deletable": true,
    "editable": true,
    "slideshow": {
     "slide_type": "subslide"
    }
   },
   "source": [
    "### ii. Code Block"
   ]
  },
  {
   "cell_type": "markdown",
   "metadata": {
    "deletable": true,
    "editable": true
   },
   "source": [
    "Code block can be highlighted according to the language\n",
    "\n",
    "This is a python code block\n",
    "```Python\n",
    "import time\n",
    "# Quick, count to ten!\n",
    "for i in range(10):\n",
    "    # (but not *too* quick)\n",
    "    time.sleep(0.5)\n",
    "    print i\n",
    "```\n",
    "This is a C++ code block\n",
    "```C++\n",
    "#include<iostream>\n",
    "usig namespace std;\n",
    "int main()\n",
    "{\n",
    "cout<<\"Hello World!\"<<endl;\n",
    "}\n",
    "```"
   ]
  },
  {
   "cell_type": "markdown",
   "metadata": {
    "deletable": true,
    "editable": true,
    "slideshow": {
     "slide_type": "subslide"
    }
   },
   "source": [
    "### iii. Links"
   ]
  },
  {
   "cell_type": "markdown",
   "metadata": {
    "collapsed": false,
    "deletable": true,
    "editable": true
   },
   "source": [
    "[This is a link to offline Pictures](./Sample_im.jpg)\n",
    "\n",
    "[This is a link to online website](http://www.ucsc.edu)"
   ]
  },
  {
   "cell_type": "markdown",
   "metadata": {
    "deletable": true,
    "editable": true,
    "slideshow": {
     "slide_type": "subslide"
    }
   },
   "source": [
    "### iv. Latex\n",
    "Latex can also be used in Jupyter to write math expression"
   ]
  },
  {
   "cell_type": "markdown",
   "metadata": {
    "deletable": true,
    "editable": true
   },
   "source": [
    "This is an expression as a single expression\n",
    "$$\\int_0^{+\\infty} x^2 dx$$\n",
    "\n",
    "Inline expression is also supported, for example, $\\int^2_1 x^2 dx$"
   ]
  },
  {
   "cell_type": "markdown",
   "metadata": {
    "deletable": true,
    "editable": true,
    "slideshow": {
     "slide_type": "subslide"
    }
   },
   "source": [
    "### v. Images\n",
    "\n",
    "Images can be added like links."
   ]
  },
  {
   "cell_type": "markdown",
   "metadata": {
    "deletable": true,
    "editable": true
   },
   "source": [
    "![Image](./Sample_im.jpg)"
   ]
  },
  {
   "cell_type": "markdown",
   "metadata": {
    "deletable": true,
    "editable": true
   },
   "source": [
    "We can use HTML style to edit image size and position\n",
    "\n",
    "<img src=\"./Sample_im.jpg\"\n",
    "style=\"width:320px;height:240px;float:left\"> "
   ]
  },
  {
   "cell_type": "markdown",
   "metadata": {
    "deletable": true,
    "editable": true,
    "slideshow": {
     "slide_type": "subslide"
    }
   },
   "source": [
    "### vi. Video\n",
    "We can also add videos in Jupyter"
   ]
  },
  {
   "cell_type": "code",
   "execution_count": 14,
   "metadata": {
    "collapsed": false,
    "deletable": true,
    "editable": true,
    "scrolled": false
   },
   "outputs": [
    {
     "data": {
      "text/html": [
       "<iframe width=\"560\" height=\"315\" src=\"https://www.youtube.com/embed/HW29067qVWk\" frameborder=\"0\" allowfullscreen></iframe>"
      ],
      "text/plain": [
       "<IPython.core.display.HTML object>"
      ]
     },
     "metadata": {},
     "output_type": "display_data"
    }
   ],
   "source": [
    "%%html\n",
    "<iframe width=\"560\" height=\"315\" src=\"https://www.youtube.com/embed/HW29067qVWk\" frameborder=\"0\" allowfullscreen></iframe>"
   ]
  },
  {
   "cell_type": "markdown",
   "metadata": {
    "deletable": true,
    "editable": true,
    "slideshow": {
     "slide_type": "slide"
    }
   },
   "source": [
    "## 4. Export ipynb file to other formats to share with others"
   ]
  },
  {
   "cell_type": "markdown",
   "metadata": {
    "deletable": true,
    "editable": true
   },
   "source": [
    "Goto **File**->**Download as** to select the file format you want to export to.\n",
    "\n",
    "Or you can type the following command in terminal\n",
    "```\n",
    "$ jupyter nbconvert --to FORMAT notebook.ipynb\n",
    "```\n",
    "\n",
    "* FORMAT means the file format you want to export to, such as, pdf, html\n",
    "* you may need to install latex and other software depending on your computer\n",
    "* please refer to the error to see if some software is missing if you don't succeed"
   ]
  },
  {
   "cell_type": "markdown",
   "metadata": {
    "deletable": true,
    "editable": true,
    "slideshow": {
     "slide_type": "slide"
    }
   },
   "source": [
    "## 5. Useful Resources"
   ]
  },
  {
   "cell_type": "markdown",
   "metadata": {
    "deletable": true,
    "editable": true
   },
   "source": [
    "Offical Documentation is  <https://jupyter.readthedocs.io/en/latest/index.html>\n",
    "\n",
    "Learn more about Markdown syntx <https://guides.github.com/features/mastering-markdown/>\n",
    "\n",
    "Use Jupyter with other languages <https://github.com/jupyter/jupyter/wiki/Jupyter-kernels>\n",
    "\n",
    "Some good Jupyter examples <http://nb.bianp.net/sort/views/>\n",
    "\n",
    "Another good Jupyter tutorial <https://github.com/welchr/csg-jupyter-tutorial>\n",
    "\n",
    "Please go to <https://github.com/damianavila/RISE> to find more information about Jupyter slidesshow"
   ]
  }
 ],
 "metadata": {
  "kernelspec": {
   "display_name": "Python 2",
   "language": "python",
   "name": "python2"
  },
  "language_info": {
   "codemirror_mode": {
    "name": "ipython",
    "version": 2
   },
   "file_extension": ".py",
   "mimetype": "text/x-python",
   "name": "python",
   "nbconvert_exporter": "python",
   "pygments_lexer": "ipython2",
   "version": "2.7.12"
  }
 },
 "nbformat": 4,
 "nbformat_minor": 2
}
