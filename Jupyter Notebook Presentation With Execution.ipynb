{
 "cells": [
  {
   "cell_type": "markdown",
   "metadata": {
    "deletable": true,
    "editable": true,
    "slideshow": {
     "slide_type": "slide"
    }
   },
   "source": [
    "<img src=\"http://blog.jupyter.org/content/images/2015/02/jupyter-sq-text.png\"\n",
    "style=\"width:100px;height:100px;float:right\">\n",
    "# Jupyter Notebook Tutorial Presentation\n",
    "\n",
    "#### Presented by Jiahui Wei\n",
    "\n",
    "This is a Jupyter Notebook tutorial. Presented at CMPS263 Winter 2017."
   ]
  },
  {
   "cell_type": "markdown",
   "metadata": {
    "deletable": true,
    "editable": true
   },
   "source": [
    "## Why Jupyter ?\n",
    "\n",
    "You can view & run Python code (as well as other language) along with charts, graphs and take notes with Jupyter.\n",
    "\n",
    "Jupyter is a 'Notebook' that can take notes and run code.\n",
    "\n",
    "This presentation will include:\n",
    "\n",
    "* execute code step by step while viewing and saving result\n",
    "\n",
    "* use code cell to run code and visualize data with graph and charts\n",
    "\n",
    "* use markdown cell to create notes\n",
    "\n",
    "* share notebook with others in many ways"
   ]
  },
  {
   "cell_type": "markdown",
   "metadata": {
    "deletable": true,
    "editable": true,
    "slideshow": {
     "slide_type": "slide"
    }
   },
   "source": [
    "## 1. Jupyter Notebook Built-in Commands"
   ]
  },
  {
   "cell_type": "markdown",
   "metadata": {
    "deletable": true,
    "editable": true,
    "slideshow": {
     "slide_type": "fragment"
    }
   },
   "source": [
    "### i. Use Jupyter as a terminal"
   ]
  },
  {
   "cell_type": "code",
   "execution_count": 1,
   "metadata": {
    "collapsed": false,
    "deletable": true,
    "editable": true,
    "scrolled": true,
    "slideshow": {
     "slide_type": "-"
    }
   },
   "outputs": [
    {
     "data": {
      "text/plain": [
       "u'/home/wjh/Jupyter_tutorial'"
      ]
     },
     "execution_count": 1,
     "metadata": {},
     "output_type": "execute_result"
    }
   ],
   "source": [
    "pwd"
   ]
  },
  {
   "cell_type": "code",
   "execution_count": 2,
   "metadata": {
    "collapsed": false,
    "deletable": true,
    "editable": true,
    "scrolled": true,
    "slideshow": {
     "slide_type": "-"
    }
   },
   "outputs": [
    {
     "name": "stdout",
     "output_type": "stream",
     "text": [
      "Jupyter Notebook Handout.ipynb                      \u001b[0m\u001b[01;34moutput_format\u001b[0m/\r\n",
      "Jupyter Notebook Presentation.ipynb                 README.md\r\n",
      "Jupyter Notebook Presentation With Execution.ipynb  \u001b[01;34mres4presentation\u001b[0m/\r\n",
      "Jupyter with Matlab example.ipynb\r\n"
     ]
    }
   ],
   "source": [
    "ls"
   ]
  },
  {
   "cell_type": "markdown",
   "metadata": {
    "deletable": true,
    "editable": true,
    "slideshow": {
     "slide_type": "subslide"
    }
   },
   "source": [
    "### ii View and run *.py file in Jupyter\n",
    "\n",
    "Use\n",
    "```Shell\n",
    "$ %pycat example.py\n",
    "``` \n",
    "to view local \\*.py file.\n",
    "\n",
    "Use \n",
    "```Shell\n",
    "$ %run example.py\n",
    "```\n",
    "to run local \\*.py file."
   ]
  },
  {
   "cell_type": "code",
   "execution_count": 3,
   "metadata": {
    "collapsed": false,
    "deletable": true,
    "editable": true
   },
   "outputs": [],
   "source": [
    "%pycat ./res4presentation/add_example.py"
   ]
  },
  {
   "cell_type": "code",
   "execution_count": 4,
   "metadata": {
    "collapsed": false,
    "deletable": true,
    "editable": true,
    "scrolled": false
   },
   "outputs": [
    {
     "name": "stdout",
     "output_type": "stream",
     "text": [
      "7\n"
     ]
    }
   ],
   "source": [
    "%run ./res4presentation/add_example.py"
   ]
  },
  {
   "cell_type": "markdown",
   "metadata": {
    "deletable": true,
    "editable": true,
    "slideshow": {
     "slide_type": "subslide"
    }
   },
   "source": [
    "### iii. Jupyter can write Python code into file\n",
    "\n",
    "Use \n",
    "```Shell\n",
    "$ %writefile example.py\n",
    "```\n",
    "to write code or text into a file."
   ]
  },
  {
   "cell_type": "code",
   "execution_count": null,
   "metadata": {
    "collapsed": false,
    "deletable": true,
    "editable": true
   },
   "outputs": [],
   "source": [
    "ls"
   ]
  },
  {
   "cell_type": "code",
   "execution_count": 5,
   "metadata": {
    "collapsed": false,
    "deletable": true,
    "editable": true
   },
   "outputs": [
    {
     "name": "stdout",
     "output_type": "stream",
     "text": [
      "Overwriting ./res4presentation/test.py\n"
     ]
    }
   ],
   "source": [
    "%%writefile ./res4presentation/test.py\n",
    "#encoding utf-8\n",
    "import datetime\n",
    "\n",
    "def print_time():\n",
    "    print 'the time is:'\n",
    "    print datetime.datetime.now()\n",
    "\n",
    "print_time()"
   ]
  },
  {
   "cell_type": "code",
   "execution_count": 6,
   "metadata": {
    "collapsed": true,
    "deletable": true,
    "editable": true
   },
   "outputs": [],
   "source": [
    "%pycat ./res4presentation/test.py"
   ]
  },
  {
   "cell_type": "markdown",
   "metadata": {
    "deletable": true,
    "editable": true,
    "slideshow": {
     "slide_type": "subslide"
    }
   },
   "source": [
    "### iv.  load .py file into Jupyter\n",
    "\n",
    "Use\n",
    "```Shell\n",
    "$ %load example.py\n",
    "```\n",
    "to load python file code into Jupyter"
   ]
  },
  {
   "cell_type": "code",
   "execution_count": null,
   "metadata": {
    "collapsed": false,
    "deletable": true,
    "editable": true
   },
   "outputs": [],
   "source": [
    "%load ./res4presentation/test.py"
   ]
  },
  {
   "cell_type": "code",
   "execution_count": 8,
   "metadata": {
    "collapsed": false
   },
   "outputs": [
    {
     "name": "stdout",
     "output_type": "stream",
     "text": [
      "the time is:\n",
      "2017-02-19 23:18:35.721350\n"
     ]
    }
   ],
   "source": [
    "# %load ./res4presentation/test.py\n",
    "#encoding utf-8\n",
    "import datetime\n",
    "\n",
    "def print_time():\n",
    "    print 'the time is:'\n",
    "    print datetime.datetime.now()\n",
    "\n",
    "print_time()"
   ]
  },
  {
   "cell_type": "markdown",
   "metadata": {
    "deletable": true,
    "editable": true,
    "slideshow": {
     "slide_type": "subslide"
    }
   },
   "source": [
    "### v. Record the run time of the code\n",
    "\n",
    "Use %%time to record time execution of a Python statement or expression."
   ]
  },
  {
   "cell_type": "code",
   "execution_count": 9,
   "metadata": {
    "collapsed": false,
    "deletable": true,
    "editable": true
   },
   "outputs": [
    {
     "name": "stdout",
     "output_type": "stream",
     "text": [
      "4950\n",
      "CPU times: user 8 ms, sys: 0 ns, total: 8 ms\n",
      "Wall time: 1.01 s\n"
     ]
    }
   ],
   "source": [
    "%%time\n",
    "import time\n",
    "sum=0\n",
    "for x in range(100):\n",
    "    sum+=x\n",
    "    time.sleep(0.01)\n",
    "print sum"
   ]
  },
  {
   "cell_type": "markdown",
   "metadata": {
    "deletable": true,
    "editable": true
   },
   "source": [
    "Use %%timeit to record average time execution of a Python statement or expression"
   ]
  },
  {
   "cell_type": "code",
   "execution_count": 10,
   "metadata": {
    "collapsed": false,
    "deletable": true,
    "editable": true
   },
   "outputs": [
    {
     "name": "stdout",
     "output_type": "stream",
     "text": [
      "The slowest run took 8.90 times longer than the fastest. This could mean that an intermediate result is being cached.\n",
      "100000 loops, best of 3: 3.27 µs per loop\n"
     ]
    }
   ],
   "source": [
    "%%timeit\n",
    "import time\n",
    "sum=0\n",
    "for x in range(100):\n",
    "    sum+=x\n"
   ]
  },
  {
   "cell_type": "markdown",
   "metadata": {
    "deletable": true,
    "editable": true,
    "slideshow": {
     "slide_type": "slide"
    }
   },
   "source": [
    "## 2. Use code cell to help visualize data\n",
    "\n",
    "Use matplotlib, pandas and other libraries with Jupyter to help visulaize data"
   ]
  },
  {
   "cell_type": "markdown",
   "metadata": {
    "deletable": true,
    "editable": true,
    "slideshow": {
     "slide_type": "fragment"
    }
   },
   "source": [
    "### i. Run simple Python code"
   ]
  },
  {
   "cell_type": "code",
   "execution_count": 11,
   "metadata": {
    "collapsed": false,
    "deletable": true,
    "editable": true
   },
   "outputs": [
    {
     "data": {
      "text/plain": [
       "3"
      ]
     },
     "execution_count": 11,
     "metadata": {},
     "output_type": "execute_result"
    }
   ],
   "source": [
    "1+2"
   ]
  },
  {
   "cell_type": "code",
   "execution_count": 12,
   "metadata": {
    "collapsed": false,
    "deletable": true,
    "editable": true
   },
   "outputs": [
    {
     "data": {
      "text/plain": [
       "6"
      ]
     },
     "execution_count": 12,
     "metadata": {},
     "output_type": "execute_result"
    }
   ],
   "source": [
    "def add_1(x,y):\n",
    "    return x+y+1\n",
    "add_1(2,3)"
   ]
  },
  {
   "cell_type": "code",
   "execution_count": 13,
   "metadata": {
    "collapsed": false
   },
   "outputs": [
    {
     "name": "stdout",
     "output_type": "stream",
     "text": [
      "the time is:\n",
      "2017-02-19 23:18:59.970213\n"
     ]
    }
   ],
   "source": [
    "print_time()"
   ]
  },
  {
   "cell_type": "markdown",
   "metadata": {
    "deletable": true,
    "editable": true,
    "slideshow": {
     "slide_type": "subslide"
    }
   },
   "source": [
    "### ii. Use matplotlib to draw graph of data\n",
    "\n",
    "Add\n",
    "```Python\n",
    "%matplotlib inline\n",
    "```\n",
    "to plot graph inside Jupyter"
   ]
  },
  {
   "cell_type": "code",
   "execution_count": 14,
   "metadata": {
    "collapsed": false,
    "deletable": true,
    "editable": true
   },
   "outputs": [
    {
     "data": {
      "text/plain": [
       "[<matplotlib.lines.Line2D at 0x7f69d3d863d0>]"
      ]
     },
     "execution_count": 14,
     "metadata": {},
     "output_type": "execute_result"
    },
    {
     "data": {
      "image/png": "[encoded data removed]",
      "text/plain": [
       "<matplotlib.figure.Figure at 0x7f6a0851a290>"
      ]
     },
     "metadata": {},
     "output_type": "display_data"
    }
   ],
   "source": [
    "%matplotlib inline\n",
    "import matplotlib.pyplot as plt\n",
    "import numpy as np\n",
    "\n",
    "Fs = 200\n",
    "f = 2\n",
    "sample = 200\n",
    "x = np.arange(sample)\n",
    "y = np.sin(2 * np.pi * f * x / Fs)\n",
    "plt.plot(x, y)"
   ]
  },
  {
   "cell_type": "markdown",
   "metadata": {
    "deletable": true,
    "editable": true
   },
   "source": [
    "[Seaborn](http://seaborn.pydata.org/index.html) is a plotting library for Python that uses matplotlib underneath the hood. It provides for a number of plotting types that don't exist in matplotlib. \n",
    "\n",
    "*The example used below is from [here](https://github.com/welchr/csg-jupyter-tutorial/blob/master/csg_jupyter_tutorial.ipynb)*"
   ]
  },
  {
   "cell_type": "code",
   "execution_count": 15,
   "metadata": {
    "collapsed": false,
    "deletable": true,
    "editable": true
   },
   "outputs": [
    {
     "data": {
      "image/png": "[encoded data removed]",
      "text/plain": [
       "<matplotlib.figure.Figure at 0x7f69c96de8d0>"
      ]
     },
     "metadata": {},
     "output_type": "display_data"
    }
   ],
   "source": [
    "%matplotlib inline\n",
    "import numpy as np\n",
    "from scipy.stats import kendalltau\n",
    "import seaborn as sns\n",
    "\n",
    "rs = np.random.RandomState(20)\n",
    "x = rs.normal(size=1000)\n",
    "y = -.5 * x + rs.normal(size=1000)\n",
    "\n",
    "ax = sns.jointplot(x, y, kind=\"hex\")"
   ]
  },
  {
   "cell_type": "markdown",
   "metadata": {
    "deletable": true,
    "editable": true,
    "slideshow": {
     "slide_type": "subslide"
    }
   },
   "source": [
    "### iii. Use pandas to show the results of data frame"
   ]
  },
  {
   "cell_type": "code",
   "execution_count": 16,
   "metadata": {
    "collapsed": false,
    "deletable": true,
    "editable": true
   },
   "outputs": [
    {
     "data": {
      "text/html": [
       "<div>\n",
       "<table border=\"1\" class=\"dataframe\">\n",
       "  <thead>\n",
       "    <tr style=\"text-align: right;\">\n",
       "      <th></th>\n",
       "      <th>Indicator</th>\n",
       "      <th>PUBLISH STATES</th>\n",
       "      <th>Year</th>\n",
       "      <th>WHO region</th>\n",
       "      <th>World Bank income group</th>\n",
       "      <th>Country</th>\n",
       "      <th>Sex</th>\n",
       "      <th>Display Value</th>\n",
       "      <th>Numeric</th>\n",
       "      <th>Low</th>\n",
       "      <th>High</th>\n",
       "      <th>Comments</th>\n",
       "    </tr>\n",
       "  </thead>\n",
       "  <tbody>\n",
       "    <tr>\n",
       "      <th>0</th>\n",
       "      <td>Life expectancy at birth (years)</td>\n",
       "      <td>Published</td>\n",
       "      <td>1990</td>\n",
       "      <td>Europe</td>\n",
       "      <td>High-income</td>\n",
       "      <td>Andorra</td>\n",
       "      <td>Both sexes</td>\n",
       "      <td>77</td>\n",
       "      <td>77.0</td>\n",
       "      <td>NaN</td>\n",
       "      <td>NaN</td>\n",
       "      <td>NaN</td>\n",
       "    </tr>\n",
       "    <tr>\n",
       "      <th>1</th>\n",
       "      <td>Life expectancy at birth (years)</td>\n",
       "      <td>Published</td>\n",
       "      <td>2000</td>\n",
       "      <td>Europe</td>\n",
       "      <td>High-income</td>\n",
       "      <td>Andorra</td>\n",
       "      <td>Both sexes</td>\n",
       "      <td>80</td>\n",
       "      <td>80.0</td>\n",
       "      <td>NaN</td>\n",
       "      <td>NaN</td>\n",
       "      <td>NaN</td>\n",
       "    </tr>\n",
       "    <tr>\n",
       "      <th>2</th>\n",
       "      <td>Life expectancy at age 60 (years)</td>\n",
       "      <td>Published</td>\n",
       "      <td>2012</td>\n",
       "      <td>Europe</td>\n",
       "      <td>High-income</td>\n",
       "      <td>Andorra</td>\n",
       "      <td>Female</td>\n",
       "      <td>28</td>\n",
       "      <td>28.0</td>\n",
       "      <td>NaN</td>\n",
       "      <td>NaN</td>\n",
       "      <td>NaN</td>\n",
       "    </tr>\n",
       "    <tr>\n",
       "      <th>3</th>\n",
       "      <td>Life expectancy at age 60 (years)</td>\n",
       "      <td>Published</td>\n",
       "      <td>2000</td>\n",
       "      <td>Europe</td>\n",
       "      <td>High-income</td>\n",
       "      <td>Andorra</td>\n",
       "      <td>Both sexes</td>\n",
       "      <td>23</td>\n",
       "      <td>23.0</td>\n",
       "      <td>NaN</td>\n",
       "      <td>NaN</td>\n",
       "      <td>NaN</td>\n",
       "    </tr>\n",
       "    <tr>\n",
       "      <th>4</th>\n",
       "      <td>Life expectancy at birth (years)</td>\n",
       "      <td>Published</td>\n",
       "      <td>2012</td>\n",
       "      <td>Eastern Mediterranean</td>\n",
       "      <td>High-income</td>\n",
       "      <td>United Arab Emirates</td>\n",
       "      <td>Female</td>\n",
       "      <td>78</td>\n",
       "      <td>78.0</td>\n",
       "      <td>NaN</td>\n",
       "      <td>NaN</td>\n",
       "      <td>NaN</td>\n",
       "    </tr>\n",
       "    <tr>\n",
       "      <th>5</th>\n",
       "      <td>Life expectancy at birth (years)</td>\n",
       "      <td>Published</td>\n",
       "      <td>2000</td>\n",
       "      <td>Americas</td>\n",
       "      <td>High-income</td>\n",
       "      <td>Antigua and Barbuda</td>\n",
       "      <td>Male</td>\n",
       "      <td>72</td>\n",
       "      <td>72.0</td>\n",
       "      <td>NaN</td>\n",
       "      <td>NaN</td>\n",
       "      <td>NaN</td>\n",
       "    </tr>\n",
       "    <tr>\n",
       "      <th>6</th>\n",
       "      <td>Life expectancy at age 60 (years)</td>\n",
       "      <td>Published</td>\n",
       "      <td>1990</td>\n",
       "      <td>Americas</td>\n",
       "      <td>High-income</td>\n",
       "      <td>Antigua and Barbuda</td>\n",
       "      <td>Male</td>\n",
       "      <td>17</td>\n",
       "      <td>17.0</td>\n",
       "      <td>NaN</td>\n",
       "      <td>NaN</td>\n",
       "      <td>NaN</td>\n",
       "    </tr>\n",
       "    <tr>\n",
       "      <th>7</th>\n",
       "      <td>Life expectancy at age 60 (years)</td>\n",
       "      <td>Published</td>\n",
       "      <td>2012</td>\n",
       "      <td>Americas</td>\n",
       "      <td>High-income</td>\n",
       "      <td>Antigua and Barbuda</td>\n",
       "      <td>Both sexes</td>\n",
       "      <td>22</td>\n",
       "      <td>22.0</td>\n",
       "      <td>NaN</td>\n",
       "      <td>NaN</td>\n",
       "      <td>NaN</td>\n",
       "    </tr>\n",
       "    <tr>\n",
       "      <th>8</th>\n",
       "      <td>Life expectancy at birth (years)</td>\n",
       "      <td>Published</td>\n",
       "      <td>2012</td>\n",
       "      <td>Western Pacific</td>\n",
       "      <td>High-income</td>\n",
       "      <td>Australia</td>\n",
       "      <td>Male</td>\n",
       "      <td>81</td>\n",
       "      <td>81.0</td>\n",
       "      <td>NaN</td>\n",
       "      <td>NaN</td>\n",
       "      <td>NaN</td>\n",
       "    </tr>\n",
       "    <tr>\n",
       "      <th>9</th>\n",
       "      <td>Life expectancy at birth (years)</td>\n",
       "      <td>Published</td>\n",
       "      <td>2000</td>\n",
       "      <td>Western Pacific</td>\n",
       "      <td>High-income</td>\n",
       "      <td>Australia</td>\n",
       "      <td>Both sexes</td>\n",
       "      <td>80</td>\n",
       "      <td>80.0</td>\n",
       "      <td>NaN</td>\n",
       "      <td>NaN</td>\n",
       "      <td>NaN</td>\n",
       "    </tr>\n",
       "    <tr>\n",
       "      <th>10</th>\n",
       "      <td>Life expectancy at birth (years)</td>\n",
       "      <td>Published</td>\n",
       "      <td>2012</td>\n",
       "      <td>Western Pacific</td>\n",
       "      <td>High-income</td>\n",
       "      <td>Australia</td>\n",
       "      <td>Both sexes</td>\n",
       "      <td>83</td>\n",
       "      <td>83.0</td>\n",
       "      <td>NaN</td>\n",
       "      <td>NaN</td>\n",
       "      <td>NaN</td>\n",
       "    </tr>\n",
       "    <tr>\n",
       "      <th>11</th>\n",
       "      <td>Life expectancy at birth (years)</td>\n",
       "      <td>Published</td>\n",
       "      <td>2012</td>\n",
       "      <td>Europe</td>\n",
       "      <td>High-income</td>\n",
       "      <td>Austria</td>\n",
       "      <td>Female</td>\n",
       "      <td>83</td>\n",
       "      <td>83.0</td>\n",
       "      <td>NaN</td>\n",
       "      <td>NaN</td>\n",
       "      <td>NaN</td>\n",
       "    </tr>\n",
       "    <tr>\n",
       "      <th>12</th>\n",
       "      <td>Life expectancy at age 60 (years)</td>\n",
       "      <td>Published</td>\n",
       "      <td>2012</td>\n",
       "      <td>Europe</td>\n",
       "      <td>High-income</td>\n",
       "      <td>Austria</td>\n",
       "      <td>Female</td>\n",
       "      <td>25</td>\n",
       "      <td>25.0</td>\n",
       "      <td>NaN</td>\n",
       "      <td>NaN</td>\n",
       "      <td>NaN</td>\n",
       "    </tr>\n",
       "    <tr>\n",
       "      <th>13</th>\n",
       "      <td>Life expectancy at birth (years)</td>\n",
       "      <td>Published</td>\n",
       "      <td>2012</td>\n",
       "      <td>Europe</td>\n",
       "      <td>High-income</td>\n",
       "      <td>Belgium</td>\n",
       "      <td>Female</td>\n",
       "      <td>83</td>\n",
       "      <td>83.0</td>\n",
       "      <td>NaN</td>\n",
       "      <td>NaN</td>\n",
       "      <td>NaN</td>\n",
       "    </tr>\n",
       "    <tr>\n",
       "      <th>14</th>\n",
       "      <td>Life expectancy at birth (years)</td>\n",
       "      <td>Published</td>\n",
       "      <td>2000</td>\n",
       "      <td>Eastern Mediterranean</td>\n",
       "      <td>High-income</td>\n",
       "      <td>Bahrain</td>\n",
       "      <td>Male</td>\n",
       "      <td>73</td>\n",
       "      <td>73.0</td>\n",
       "      <td>NaN</td>\n",
       "      <td>NaN</td>\n",
       "      <td>NaN</td>\n",
       "    </tr>\n",
       "    <tr>\n",
       "      <th>15</th>\n",
       "      <td>Life expectancy at birth (years)</td>\n",
       "      <td>Published</td>\n",
       "      <td>1990</td>\n",
       "      <td>Eastern Mediterranean</td>\n",
       "      <td>High-income</td>\n",
       "      <td>Bahrain</td>\n",
       "      <td>Female</td>\n",
       "      <td>74</td>\n",
       "      <td>74.0</td>\n",
       "      <td>NaN</td>\n",
       "      <td>NaN</td>\n",
       "      <td>NaN</td>\n",
       "    </tr>\n",
       "    <tr>\n",
       "      <th>16</th>\n",
       "      <td>Life expectancy at age 60 (years)</td>\n",
       "      <td>Published</td>\n",
       "      <td>1990</td>\n",
       "      <td>Eastern Mediterranean</td>\n",
       "      <td>High-income</td>\n",
       "      <td>Bahrain</td>\n",
       "      <td>Male</td>\n",
       "      <td>17</td>\n",
       "      <td>17.0</td>\n",
       "      <td>NaN</td>\n",
       "      <td>NaN</td>\n",
       "      <td>NaN</td>\n",
       "    </tr>\n",
       "    <tr>\n",
       "      <th>17</th>\n",
       "      <td>Life expectancy at birth (years)</td>\n",
       "      <td>Published</td>\n",
       "      <td>2012</td>\n",
       "      <td>Americas</td>\n",
       "      <td>High-income</td>\n",
       "      <td>Bahamas</td>\n",
       "      <td>Male</td>\n",
       "      <td>72</td>\n",
       "      <td>72.0</td>\n",
       "      <td>NaN</td>\n",
       "      <td>NaN</td>\n",
       "      <td>NaN</td>\n",
       "    </tr>\n",
       "    <tr>\n",
       "      <th>18</th>\n",
       "      <td>Life expectancy at age 60 (years)</td>\n",
       "      <td>Published</td>\n",
       "      <td>2000</td>\n",
       "      <td>Americas</td>\n",
       "      <td>High-income</td>\n",
       "      <td>Bahamas</td>\n",
       "      <td>Both sexes</td>\n",
       "      <td>21</td>\n",
       "      <td>21.0</td>\n",
       "      <td>NaN</td>\n",
       "      <td>NaN</td>\n",
       "      <td>NaN</td>\n",
       "    </tr>\n",
       "    <tr>\n",
       "      <th>19</th>\n",
       "      <td>Life expectancy at birth (years)</td>\n",
       "      <td>Published</td>\n",
       "      <td>1990</td>\n",
       "      <td>Americas</td>\n",
       "      <td>High-income</td>\n",
       "      <td>Barbados</td>\n",
       "      <td>Male</td>\n",
       "      <td>71</td>\n",
       "      <td>71.0</td>\n",
       "      <td>NaN</td>\n",
       "      <td>NaN</td>\n",
       "      <td>NaN</td>\n",
       "    </tr>\n",
       "    <tr>\n",
       "      <th>20</th>\n",
       "      <td>Life expectancy at age 60 (years)</td>\n",
       "      <td>Published</td>\n",
       "      <td>2012</td>\n",
       "      <td>Americas</td>\n",
       "      <td>High-income</td>\n",
       "      <td>Barbados</td>\n",
       "      <td>Female</td>\n",
       "      <td>25</td>\n",
       "      <td>25.0</td>\n",
       "      <td>NaN</td>\n",
       "      <td>NaN</td>\n",
       "      <td>NaN</td>\n",
       "    </tr>\n",
       "    <tr>\n",
       "      <th>21</th>\n",
       "      <td>Life expectancy at age 60 (years)</td>\n",
       "      <td>Published</td>\n",
       "      <td>2012</td>\n",
       "      <td>Americas</td>\n",
       "      <td>High-income</td>\n",
       "      <td>Barbados</td>\n",
       "      <td>Both sexes</td>\n",
       "      <td>23</td>\n",
       "      <td>23.0</td>\n",
       "      <td>NaN</td>\n",
       "      <td>NaN</td>\n",
       "      <td>NaN</td>\n",
       "    </tr>\n",
       "    <tr>\n",
       "      <th>22</th>\n",
       "      <td>Life expectancy at age 60 (years)</td>\n",
       "      <td>Published</td>\n",
       "      <td>1990</td>\n",
       "      <td>Western Pacific</td>\n",
       "      <td>High-income</td>\n",
       "      <td>Brunei Darussalam</td>\n",
       "      <td>Female</td>\n",
       "      <td>20</td>\n",
       "      <td>20.0</td>\n",
       "      <td>NaN</td>\n",
       "      <td>NaN</td>\n",
       "      <td>NaN</td>\n",
       "    </tr>\n",
       "    <tr>\n",
       "      <th>23</th>\n",
       "      <td>Life expectancy at age 60 (years)</td>\n",
       "      <td>Published</td>\n",
       "      <td>2000</td>\n",
       "      <td>Western Pacific</td>\n",
       "      <td>High-income</td>\n",
       "      <td>Brunei Darussalam</td>\n",
       "      <td>Female</td>\n",
       "      <td>22</td>\n",
       "      <td>22.0</td>\n",
       "      <td>NaN</td>\n",
       "      <td>NaN</td>\n",
       "      <td>NaN</td>\n",
       "    </tr>\n",
       "    <tr>\n",
       "      <th>24</th>\n",
       "      <td>Life expectancy at age 60 (years)</td>\n",
       "      <td>Published</td>\n",
       "      <td>2012</td>\n",
       "      <td>Western Pacific</td>\n",
       "      <td>High-income</td>\n",
       "      <td>Brunei Darussalam</td>\n",
       "      <td>Female</td>\n",
       "      <td>21</td>\n",
       "      <td>21.0</td>\n",
       "      <td>NaN</td>\n",
       "      <td>NaN</td>\n",
       "      <td>NaN</td>\n",
       "    </tr>\n",
       "    <tr>\n",
       "      <th>25</th>\n",
       "      <td>Life expectancy at birth (years)</td>\n",
       "      <td>Published</td>\n",
       "      <td>2000</td>\n",
       "      <td>Americas</td>\n",
       "      <td>High-income</td>\n",
       "      <td>Canada</td>\n",
       "      <td>Female</td>\n",
       "      <td>82</td>\n",
       "      <td>82.0</td>\n",
       "      <td>NaN</td>\n",
       "      <td>NaN</td>\n",
       "      <td>NaN</td>\n",
       "    </tr>\n",
       "    <tr>\n",
       "      <th>26</th>\n",
       "      <td>Life expectancy at age 60 (years)</td>\n",
       "      <td>Published</td>\n",
       "      <td>2000</td>\n",
       "      <td>Americas</td>\n",
       "      <td>High-income</td>\n",
       "      <td>Canada</td>\n",
       "      <td>Male</td>\n",
       "      <td>21</td>\n",
       "      <td>21.0</td>\n",
       "      <td>NaN</td>\n",
       "      <td>NaN</td>\n",
       "      <td>NaN</td>\n",
       "    </tr>\n",
       "    <tr>\n",
       "      <th>27</th>\n",
       "      <td>Life expectancy at age 60 (years)</td>\n",
       "      <td>Published</td>\n",
       "      <td>1990</td>\n",
       "      <td>Americas</td>\n",
       "      <td>High-income</td>\n",
       "      <td>Canada</td>\n",
       "      <td>Female</td>\n",
       "      <td>24</td>\n",
       "      <td>24.0</td>\n",
       "      <td>NaN</td>\n",
       "      <td>NaN</td>\n",
       "      <td>NaN</td>\n",
       "    </tr>\n",
       "    <tr>\n",
       "      <th>28</th>\n",
       "      <td>Life expectancy at birth (years)</td>\n",
       "      <td>Published</td>\n",
       "      <td>1990</td>\n",
       "      <td>Europe</td>\n",
       "      <td>High-income</td>\n",
       "      <td>Switzerland</td>\n",
       "      <td>Male</td>\n",
       "      <td>74</td>\n",
       "      <td>74.0</td>\n",
       "      <td>NaN</td>\n",
       "      <td>NaN</td>\n",
       "      <td>NaN</td>\n",
       "    </tr>\n",
       "    <tr>\n",
       "      <th>29</th>\n",
       "      <td>Life expectancy at birth (years)</td>\n",
       "      <td>Published</td>\n",
       "      <td>2012</td>\n",
       "      <td>Europe</td>\n",
       "      <td>High-income</td>\n",
       "      <td>Switzerland</td>\n",
       "      <td>Both sexes</td>\n",
       "      <td>83</td>\n",
       "      <td>83.0</td>\n",
       "      <td>NaN</td>\n",
       "      <td>NaN</td>\n",
       "      <td>NaN</td>\n",
       "    </tr>\n",
       "    <tr>\n",
       "      <th>...</th>\n",
       "      <td>...</td>\n",
       "      <td>...</td>\n",
       "      <td>...</td>\n",
       "      <td>...</td>\n",
       "      <td>...</td>\n",
       "      <td>...</td>\n",
       "      <td>...</td>\n",
       "      <td>...</td>\n",
       "      <td>...</td>\n",
       "      <td>...</td>\n",
       "      <td>...</td>\n",
       "      <td>...</td>\n",
       "    </tr>\n",
       "    <tr>\n",
       "      <th>4626</th>\n",
       "      <td>Healthy life expectancy (HALE) at birth (years)</td>\n",
       "      <td>Published</td>\n",
       "      <td>2012</td>\n",
       "      <td>Europe</td>\n",
       "      <td>Upper-middle-income</td>\n",
       "      <td>Serbia</td>\n",
       "      <td>Female</td>\n",
       "      <td>67</td>\n",
       "      <td>67.0</td>\n",
       "      <td>NaN</td>\n",
       "      <td>NaN</td>\n",
       "      <td>NaN</td>\n",
       "    </tr>\n",
       "    <tr>\n",
       "      <th>4627</th>\n",
       "      <td>Healthy life expectancy (HALE) at birth (years)</td>\n",
       "      <td>Published</td>\n",
       "      <td>2012</td>\n",
       "      <td>Americas</td>\n",
       "      <td>Upper-middle-income</td>\n",
       "      <td>Suriname</td>\n",
       "      <td>Both sexes</td>\n",
       "      <td>66</td>\n",
       "      <td>66.0</td>\n",
       "      <td>NaN</td>\n",
       "      <td>NaN</td>\n",
       "      <td>NaN</td>\n",
       "    </tr>\n",
       "    <tr>\n",
       "      <th>4628</th>\n",
       "      <td>Healthy life expectancy (HALE) at birth (years)</td>\n",
       "      <td>Published</td>\n",
       "      <td>2012</td>\n",
       "      <td>Europe</td>\n",
       "      <td>High-income</td>\n",
       "      <td>Sweden</td>\n",
       "      <td>Both sexes</td>\n",
       "      <td>72</td>\n",
       "      <td>72.0</td>\n",
       "      <td>NaN</td>\n",
       "      <td>NaN</td>\n",
       "      <td>NaN</td>\n",
       "    </tr>\n",
       "    <tr>\n",
       "      <th>4629</th>\n",
       "      <td>Healthy life expectancy (HALE) at birth (years)</td>\n",
       "      <td>Published</td>\n",
       "      <td>2012</td>\n",
       "      <td>Africa</td>\n",
       "      <td>Lower-middle-income</td>\n",
       "      <td>Swaziland</td>\n",
       "      <td>Female</td>\n",
       "      <td>47</td>\n",
       "      <td>47.0</td>\n",
       "      <td>NaN</td>\n",
       "      <td>NaN</td>\n",
       "      <td>NaN</td>\n",
       "    </tr>\n",
       "    <tr>\n",
       "      <th>4630</th>\n",
       "      <td>Healthy life expectancy (HALE) at birth (years)</td>\n",
       "      <td>Published</td>\n",
       "      <td>2000</td>\n",
       "      <td>Africa</td>\n",
       "      <td>Upper-middle-income</td>\n",
       "      <td>Seychelles</td>\n",
       "      <td>Male</td>\n",
       "      <td>61</td>\n",
       "      <td>61.0</td>\n",
       "      <td>NaN</td>\n",
       "      <td>NaN</td>\n",
       "      <td>NaN</td>\n",
       "    </tr>\n",
       "    <tr>\n",
       "      <th>4631</th>\n",
       "      <td>Healthy life expectancy (HALE) at birth (years)</td>\n",
       "      <td>Published</td>\n",
       "      <td>2000</td>\n",
       "      <td>Eastern Mediterranean</td>\n",
       "      <td>Lower-middle-income</td>\n",
       "      <td>Syrian Arab Republic</td>\n",
       "      <td>Female</td>\n",
       "      <td>64</td>\n",
       "      <td>64.0</td>\n",
       "      <td>NaN</td>\n",
       "      <td>NaN</td>\n",
       "      <td>NaN</td>\n",
       "    </tr>\n",
       "    <tr>\n",
       "      <th>4632</th>\n",
       "      <td>Healthy life expectancy (HALE) at birth (years)</td>\n",
       "      <td>Published</td>\n",
       "      <td>2012</td>\n",
       "      <td>Africa</td>\n",
       "      <td>Low-income</td>\n",
       "      <td>Chad</td>\n",
       "      <td>Female</td>\n",
       "      <td>44</td>\n",
       "      <td>44.0</td>\n",
       "      <td>NaN</td>\n",
       "      <td>NaN</td>\n",
       "      <td>NaN</td>\n",
       "    </tr>\n",
       "    <tr>\n",
       "      <th>4633</th>\n",
       "      <td>Healthy life expectancy (HALE) at birth (years)</td>\n",
       "      <td>Published</td>\n",
       "      <td>2000</td>\n",
       "      <td>South-East Asia</td>\n",
       "      <td>Lower-middle-income</td>\n",
       "      <td>Thailand</td>\n",
       "      <td>Male</td>\n",
       "      <td>59</td>\n",
       "      <td>59.0</td>\n",
       "      <td>NaN</td>\n",
       "      <td>NaN</td>\n",
       "      <td>NaN</td>\n",
       "    </tr>\n",
       "    <tr>\n",
       "      <th>4634</th>\n",
       "      <td>Healthy life expectancy (HALE) at birth (years)</td>\n",
       "      <td>Published</td>\n",
       "      <td>2000</td>\n",
       "      <td>South-East Asia</td>\n",
       "      <td>Lower-middle-income</td>\n",
       "      <td>Thailand</td>\n",
       "      <td>Female</td>\n",
       "      <td>65</td>\n",
       "      <td>65.0</td>\n",
       "      <td>NaN</td>\n",
       "      <td>NaN</td>\n",
       "      <td>NaN</td>\n",
       "    </tr>\n",
       "    <tr>\n",
       "      <th>4635</th>\n",
       "      <td>Healthy life expectancy (HALE) at birth (years)</td>\n",
       "      <td>Published</td>\n",
       "      <td>2000</td>\n",
       "      <td>Europe</td>\n",
       "      <td>Low-income</td>\n",
       "      <td>Tajikistan</td>\n",
       "      <td>Both sexes</td>\n",
       "      <td>56</td>\n",
       "      <td>56.0</td>\n",
       "      <td>NaN</td>\n",
       "      <td>NaN</td>\n",
       "      <td>NaN</td>\n",
       "    </tr>\n",
       "    <tr>\n",
       "      <th>4636</th>\n",
       "      <td>Healthy life expectancy (HALE) at birth (years)</td>\n",
       "      <td>Published</td>\n",
       "      <td>2012</td>\n",
       "      <td>Europe</td>\n",
       "      <td>Low-income</td>\n",
       "      <td>Tajikistan</td>\n",
       "      <td>Female</td>\n",
       "      <td>60</td>\n",
       "      <td>60.0</td>\n",
       "      <td>NaN</td>\n",
       "      <td>NaN</td>\n",
       "      <td>NaN</td>\n",
       "    </tr>\n",
       "    <tr>\n",
       "      <th>4637</th>\n",
       "      <td>Healthy life expectancy (HALE) at birth (years)</td>\n",
       "      <td>Published</td>\n",
       "      <td>2012</td>\n",
       "      <td>Western Pacific</td>\n",
       "      <td>Lower-middle-income</td>\n",
       "      <td>Tonga</td>\n",
       "      <td>Female</td>\n",
       "      <td>61</td>\n",
       "      <td>61.0</td>\n",
       "      <td>NaN</td>\n",
       "      <td>NaN</td>\n",
       "      <td>NaN</td>\n",
       "    </tr>\n",
       "    <tr>\n",
       "      <th>4638</th>\n",
       "      <td>Healthy life expectancy (HALE) at birth (years)</td>\n",
       "      <td>Published</td>\n",
       "      <td>2012</td>\n",
       "      <td>Americas</td>\n",
       "      <td>High-income</td>\n",
       "      <td>Trinidad and Tobago</td>\n",
       "      <td>Female</td>\n",
       "      <td>64</td>\n",
       "      <td>64.0</td>\n",
       "      <td>NaN</td>\n",
       "      <td>NaN</td>\n",
       "      <td>NaN</td>\n",
       "    </tr>\n",
       "    <tr>\n",
       "      <th>4639</th>\n",
       "      <td>Healthy life expectancy (HALE) at birth (years)</td>\n",
       "      <td>Published</td>\n",
       "      <td>2012</td>\n",
       "      <td>Americas</td>\n",
       "      <td>High-income</td>\n",
       "      <td>Trinidad and Tobago</td>\n",
       "      <td>Both sexes</td>\n",
       "      <td>61</td>\n",
       "      <td>61.0</td>\n",
       "      <td>NaN</td>\n",
       "      <td>NaN</td>\n",
       "      <td>NaN</td>\n",
       "    </tr>\n",
       "    <tr>\n",
       "      <th>4640</th>\n",
       "      <td>Healthy life expectancy (HALE) at birth (years)</td>\n",
       "      <td>Published</td>\n",
       "      <td>2000</td>\n",
       "      <td>Eastern Mediterranean</td>\n",
       "      <td>Lower-middle-income</td>\n",
       "      <td>Tunisia</td>\n",
       "      <td>Male</td>\n",
       "      <td>63</td>\n",
       "      <td>63.0</td>\n",
       "      <td>NaN</td>\n",
       "      <td>NaN</td>\n",
       "      <td>NaN</td>\n",
       "    </tr>\n",
       "    <tr>\n",
       "      <th>4641</th>\n",
       "      <td>Healthy life expectancy (HALE) at birth (years)</td>\n",
       "      <td>Published</td>\n",
       "      <td>2012</td>\n",
       "      <td>Western Pacific</td>\n",
       "      <td>Upper-middle-income</td>\n",
       "      <td>Tuvalu</td>\n",
       "      <td>Male</td>\n",
       "      <td>57</td>\n",
       "      <td>57.0</td>\n",
       "      <td>NaN</td>\n",
       "      <td>NaN</td>\n",
       "      <td>NaN</td>\n",
       "    </tr>\n",
       "    <tr>\n",
       "      <th>4642</th>\n",
       "      <td>Healthy life expectancy (HALE) at birth (years)</td>\n",
       "      <td>Published</td>\n",
       "      <td>2000</td>\n",
       "      <td>Africa</td>\n",
       "      <td>Low-income</td>\n",
       "      <td>Uganda</td>\n",
       "      <td>Female</td>\n",
       "      <td>40</td>\n",
       "      <td>40.0</td>\n",
       "      <td>NaN</td>\n",
       "      <td>NaN</td>\n",
       "      <td>NaN</td>\n",
       "    </tr>\n",
       "    <tr>\n",
       "      <th>4643</th>\n",
       "      <td>Healthy life expectancy (HALE) at birth (years)</td>\n",
       "      <td>Published</td>\n",
       "      <td>2000</td>\n",
       "      <td>Europe</td>\n",
       "      <td>Lower-middle-income</td>\n",
       "      <td>Ukraine</td>\n",
       "      <td>Both sexes</td>\n",
       "      <td>60</td>\n",
       "      <td>60.0</td>\n",
       "      <td>NaN</td>\n",
       "      <td>NaN</td>\n",
       "      <td>NaN</td>\n",
       "    </tr>\n",
       "    <tr>\n",
       "      <th>4644</th>\n",
       "      <td>Healthy life expectancy (HALE) at birth (years)</td>\n",
       "      <td>Published</td>\n",
       "      <td>2012</td>\n",
       "      <td>Americas</td>\n",
       "      <td>Upper-middle-income</td>\n",
       "      <td>Uruguay</td>\n",
       "      <td>Male</td>\n",
       "      <td>65</td>\n",
       "      <td>65.0</td>\n",
       "      <td>NaN</td>\n",
       "      <td>NaN</td>\n",
       "      <td>NaN</td>\n",
       "    </tr>\n",
       "    <tr>\n",
       "      <th>4645</th>\n",
       "      <td>Healthy life expectancy (HALE) at birth (years)</td>\n",
       "      <td>Published</td>\n",
       "      <td>2012</td>\n",
       "      <td>Americas</td>\n",
       "      <td>Upper-middle-income</td>\n",
       "      <td>Uruguay</td>\n",
       "      <td>Female</td>\n",
       "      <td>70</td>\n",
       "      <td>70.0</td>\n",
       "      <td>NaN</td>\n",
       "      <td>NaN</td>\n",
       "      <td>NaN</td>\n",
       "    </tr>\n",
       "    <tr>\n",
       "      <th>4646</th>\n",
       "      <td>Healthy life expectancy (HALE) at birth (years)</td>\n",
       "      <td>Published</td>\n",
       "      <td>2012</td>\n",
       "      <td>Americas</td>\n",
       "      <td>Upper-middle-income</td>\n",
       "      <td>Uruguay</td>\n",
       "      <td>Both sexes</td>\n",
       "      <td>68</td>\n",
       "      <td>68.0</td>\n",
       "      <td>NaN</td>\n",
       "      <td>NaN</td>\n",
       "      <td>NaN</td>\n",
       "    </tr>\n",
       "    <tr>\n",
       "      <th>4647</th>\n",
       "      <td>Healthy life expectancy (HALE) at birth (years)</td>\n",
       "      <td>Published</td>\n",
       "      <td>2000</td>\n",
       "      <td>Americas</td>\n",
       "      <td>Upper-middle-income</td>\n",
       "      <td>Saint Vincent and the Grenadines</td>\n",
       "      <td>Both sexes</td>\n",
       "      <td>61</td>\n",
       "      <td>61.0</td>\n",
       "      <td>NaN</td>\n",
       "      <td>NaN</td>\n",
       "      <td>NaN</td>\n",
       "    </tr>\n",
       "    <tr>\n",
       "      <th>4648</th>\n",
       "      <td>Healthy life expectancy (HALE) at birth (years)</td>\n",
       "      <td>Published</td>\n",
       "      <td>2012</td>\n",
       "      <td>Americas</td>\n",
       "      <td>Upper-middle-income</td>\n",
       "      <td>Venezuela (Bolivarian Republic of)</td>\n",
       "      <td>Both sexes</td>\n",
       "      <td>66</td>\n",
       "      <td>66.0</td>\n",
       "      <td>NaN</td>\n",
       "      <td>NaN</td>\n",
       "      <td>NaN</td>\n",
       "    </tr>\n",
       "    <tr>\n",
       "      <th>4649</th>\n",
       "      <td>Healthy life expectancy (HALE) at birth (years)</td>\n",
       "      <td>Published</td>\n",
       "      <td>2000</td>\n",
       "      <td>Western Pacific</td>\n",
       "      <td>Lower-middle-income</td>\n",
       "      <td>Vanuatu</td>\n",
       "      <td>Male</td>\n",
       "      <td>59</td>\n",
       "      <td>59.0</td>\n",
       "      <td>NaN</td>\n",
       "      <td>NaN</td>\n",
       "      <td>NaN</td>\n",
       "    </tr>\n",
       "    <tr>\n",
       "      <th>4650</th>\n",
       "      <td>Healthy life expectancy (HALE) at birth (years)</td>\n",
       "      <td>Published</td>\n",
       "      <td>2012</td>\n",
       "      <td>Western Pacific</td>\n",
       "      <td>Lower-middle-income</td>\n",
       "      <td>Samoa</td>\n",
       "      <td>Male</td>\n",
       "      <td>62</td>\n",
       "      <td>62.0</td>\n",
       "      <td>NaN</td>\n",
       "      <td>NaN</td>\n",
       "      <td>NaN</td>\n",
       "    </tr>\n",
       "    <tr>\n",
       "      <th>4651</th>\n",
       "      <td>Healthy life expectancy (HALE) at birth (years)</td>\n",
       "      <td>Published</td>\n",
       "      <td>2012</td>\n",
       "      <td>Western Pacific</td>\n",
       "      <td>Lower-middle-income</td>\n",
       "      <td>Samoa</td>\n",
       "      <td>Female</td>\n",
       "      <td>66</td>\n",
       "      <td>66.0</td>\n",
       "      <td>NaN</td>\n",
       "      <td>NaN</td>\n",
       "      <td>NaN</td>\n",
       "    </tr>\n",
       "    <tr>\n",
       "      <th>4652</th>\n",
       "      <td>Healthy life expectancy (HALE) at birth (years)</td>\n",
       "      <td>Published</td>\n",
       "      <td>2012</td>\n",
       "      <td>Eastern Mediterranean</td>\n",
       "      <td>Low-income</td>\n",
       "      <td>Yemen</td>\n",
       "      <td>Both sexes</td>\n",
       "      <td>54</td>\n",
       "      <td>54.0</td>\n",
       "      <td>NaN</td>\n",
       "      <td>NaN</td>\n",
       "      <td>NaN</td>\n",
       "    </tr>\n",
       "    <tr>\n",
       "      <th>4653</th>\n",
       "      <td>Healthy life expectancy (HALE) at birth (years)</td>\n",
       "      <td>Published</td>\n",
       "      <td>2000</td>\n",
       "      <td>Africa</td>\n",
       "      <td>Upper-middle-income</td>\n",
       "      <td>South Africa</td>\n",
       "      <td>Male</td>\n",
       "      <td>49</td>\n",
       "      <td>49.0</td>\n",
       "      <td>NaN</td>\n",
       "      <td>NaN</td>\n",
       "      <td>NaN</td>\n",
       "    </tr>\n",
       "    <tr>\n",
       "      <th>4654</th>\n",
       "      <td>Healthy life expectancy (HALE) at birth (years)</td>\n",
       "      <td>Published</td>\n",
       "      <td>2000</td>\n",
       "      <td>Africa</td>\n",
       "      <td>Low-income</td>\n",
       "      <td>Zambia</td>\n",
       "      <td>Both sexes</td>\n",
       "      <td>36</td>\n",
       "      <td>36.0</td>\n",
       "      <td>NaN</td>\n",
       "      <td>NaN</td>\n",
       "      <td>NaN</td>\n",
       "    </tr>\n",
       "    <tr>\n",
       "      <th>4655</th>\n",
       "      <td>Healthy life expectancy (HALE) at birth (years)</td>\n",
       "      <td>Published</td>\n",
       "      <td>2012</td>\n",
       "      <td>Africa</td>\n",
       "      <td>Low-income</td>\n",
       "      <td>Zimbabwe</td>\n",
       "      <td>Female</td>\n",
       "      <td>51</td>\n",
       "      <td>51.0</td>\n",
       "      <td>NaN</td>\n",
       "      <td>NaN</td>\n",
       "      <td>NaN</td>\n",
       "    </tr>\n",
       "  </tbody>\n",
       "</table>\n",
       "<p>4656 rows × 12 columns</p>\n",
       "</div>"
      ],
      "text/plain": [
       "                                            Indicator PUBLISH STATES  Year  \\\n",
       "0                    Life expectancy at birth (years)      Published  1990   \n",
       "1                    Life expectancy at birth (years)      Published  2000   \n",
       "2                   Life expectancy at age 60 (years)      Published  2012   \n",
       "3                   Life expectancy at age 60 (years)      Published  2000   \n",
       "4                    Life expectancy at birth (years)      Published  2012   \n",
       "5                    Life expectancy at birth (years)      Published  2000   \n",
       "6                   Life expectancy at age 60 (years)      Published  1990   \n",
       "7                   Life expectancy at age 60 (years)      Published  2012   \n",
       "8                    Life expectancy at birth (years)      Published  2012   \n",
       "9                    Life expectancy at birth (years)      Published  2000   \n",
       "10                   Life expectancy at birth (years)      Published  2012   \n",
       "11                   Life expectancy at birth (years)      Published  2012   \n",
       "12                  Life expectancy at age 60 (years)      Published  2012   \n",
       "13                   Life expectancy at birth (years)      Published  2012   \n",
       "14                   Life expectancy at birth (years)      Published  2000   \n",
       "15                   Life expectancy at birth (years)      Published  1990   \n",
       "16                  Life expectancy at age 60 (years)      Published  1990   \n",
       "17                   Life expectancy at birth (years)      Published  2012   \n",
       "18                  Life expectancy at age 60 (years)      Published  2000   \n",
       "19                   Life expectancy at birth (years)      Published  1990   \n",
       "20                  Life expectancy at age 60 (years)      Published  2012   \n",
       "21                  Life expectancy at age 60 (years)      Published  2012   \n",
       "22                  Life expectancy at age 60 (years)      Published  1990   \n",
       "23                  Life expectancy at age 60 (years)      Published  2000   \n",
       "24                  Life expectancy at age 60 (years)      Published  2012   \n",
       "25                   Life expectancy at birth (years)      Published  2000   \n",
       "26                  Life expectancy at age 60 (years)      Published  2000   \n",
       "27                  Life expectancy at age 60 (years)      Published  1990   \n",
       "28                   Life expectancy at birth (years)      Published  1990   \n",
       "29                   Life expectancy at birth (years)      Published  2012   \n",
       "...                                               ...            ...   ...   \n",
       "4626  Healthy life expectancy (HALE) at birth (years)      Published  2012   \n",
       "4627  Healthy life expectancy (HALE) at birth (years)      Published  2012   \n",
       "4628  Healthy life expectancy (HALE) at birth (years)      Published  2012   \n",
       "4629  Healthy life expectancy (HALE) at birth (years)      Published  2012   \n",
       "4630  Healthy life expectancy (HALE) at birth (years)      Published  2000   \n",
       "4631  Healthy life expectancy (HALE) at birth (years)      Published  2000   \n",
       "4632  Healthy life expectancy (HALE) at birth (years)      Published  2012   \n",
       "4633  Healthy life expectancy (HALE) at birth (years)      Published  2000   \n",
       "4634  Healthy life expectancy (HALE) at birth (years)      Published  2000   \n",
       "4635  Healthy life expectancy (HALE) at birth (years)      Published  2000   \n",
       "4636  Healthy life expectancy (HALE) at birth (years)      Published  2012   \n",
       "4637  Healthy life expectancy (HALE) at birth (years)      Published  2012   \n",
       "4638  Healthy life expectancy (HALE) at birth (years)      Published  2012   \n",
       "4639  Healthy life expectancy (HALE) at birth (years)      Published  2012   \n",
       "4640  Healthy life expectancy (HALE) at birth (years)      Published  2000   \n",
       "4641  Healthy life expectancy (HALE) at birth (years)      Published  2012   \n",
       "4642  Healthy life expectancy (HALE) at birth (years)      Published  2000   \n",
       "4643  Healthy life expectancy (HALE) at birth (years)      Published  2000   \n",
       "4644  Healthy life expectancy (HALE) at birth (years)      Published  2012   \n",
       "4645  Healthy life expectancy (HALE) at birth (years)      Published  2012   \n",
       "4646  Healthy life expectancy (HALE) at birth (years)      Published  2012   \n",
       "4647  Healthy life expectancy (HALE) at birth (years)      Published  2000   \n",
       "4648  Healthy life expectancy (HALE) at birth (years)      Published  2012   \n",
       "4649  Healthy life expectancy (HALE) at birth (years)      Published  2000   \n",
       "4650  Healthy life expectancy (HALE) at birth (years)      Published  2012   \n",
       "4651  Healthy life expectancy (HALE) at birth (years)      Published  2012   \n",
       "4652  Healthy life expectancy (HALE) at birth (years)      Published  2012   \n",
       "4653  Healthy life expectancy (HALE) at birth (years)      Published  2000   \n",
       "4654  Healthy life expectancy (HALE) at birth (years)      Published  2000   \n",
       "4655  Healthy life expectancy (HALE) at birth (years)      Published  2012   \n",
       "\n",
       "                 WHO region World Bank income group  \\\n",
       "0                    Europe             High-income   \n",
       "1                    Europe             High-income   \n",
       "2                    Europe             High-income   \n",
       "3                    Europe             High-income   \n",
       "4     Eastern Mediterranean             High-income   \n",
       "5                  Americas             High-income   \n",
       "6                  Americas             High-income   \n",
       "7                  Americas             High-income   \n",
       "8           Western Pacific             High-income   \n",
       "9           Western Pacific             High-income   \n",
       "10          Western Pacific             High-income   \n",
       "11                   Europe             High-income   \n",
       "12                   Europe             High-income   \n",
       "13                   Europe             High-income   \n",
       "14    Eastern Mediterranean             High-income   \n",
       "15    Eastern Mediterranean             High-income   \n",
       "16    Eastern Mediterranean             High-income   \n",
       "17                 Americas             High-income   \n",
       "18                 Americas             High-income   \n",
       "19                 Americas             High-income   \n",
       "20                 Americas             High-income   \n",
       "21                 Americas             High-income   \n",
       "22          Western Pacific             High-income   \n",
       "23          Western Pacific             High-income   \n",
       "24          Western Pacific             High-income   \n",
       "25                 Americas             High-income   \n",
       "26                 Americas             High-income   \n",
       "27                 Americas             High-income   \n",
       "28                   Europe             High-income   \n",
       "29                   Europe             High-income   \n",
       "...                     ...                     ...   \n",
       "4626                 Europe     Upper-middle-income   \n",
       "4627               Americas     Upper-middle-income   \n",
       "4628                 Europe             High-income   \n",
       "4629                 Africa     Lower-middle-income   \n",
       "4630                 Africa     Upper-middle-income   \n",
       "4631  Eastern Mediterranean     Lower-middle-income   \n",
       "4632                 Africa              Low-income   \n",
       "4633        South-East Asia     Lower-middle-income   \n",
       "4634        South-East Asia     Lower-middle-income   \n",
       "4635                 Europe              Low-income   \n",
       "4636                 Europe              Low-income   \n",
       "4637        Western Pacific     Lower-middle-income   \n",
       "4638               Americas             High-income   \n",
       "4639               Americas             High-income   \n",
       "4640  Eastern Mediterranean     Lower-middle-income   \n",
       "4641        Western Pacific     Upper-middle-income   \n",
       "4642                 Africa              Low-income   \n",
       "4643                 Europe     Lower-middle-income   \n",
       "4644               Americas     Upper-middle-income   \n",
       "4645               Americas     Upper-middle-income   \n",
       "4646               Americas     Upper-middle-income   \n",
       "4647               Americas     Upper-middle-income   \n",
       "4648               Americas     Upper-middle-income   \n",
       "4649        Western Pacific     Lower-middle-income   \n",
       "4650        Western Pacific     Lower-middle-income   \n",
       "4651        Western Pacific     Lower-middle-income   \n",
       "4652  Eastern Mediterranean              Low-income   \n",
       "4653                 Africa     Upper-middle-income   \n",
       "4654                 Africa              Low-income   \n",
       "4655                 Africa              Low-income   \n",
       "\n",
       "                                 Country         Sex  Display Value  Numeric  \\\n",
       "0                                Andorra  Both sexes             77     77.0   \n",
       "1                                Andorra  Both sexes             80     80.0   \n",
       "2                                Andorra      Female             28     28.0   \n",
       "3                                Andorra  Both sexes             23     23.0   \n",
       "4                   United Arab Emirates      Female             78     78.0   \n",
       "5                    Antigua and Barbuda        Male             72     72.0   \n",
       "6                    Antigua and Barbuda        Male             17     17.0   \n",
       "7                    Antigua and Barbuda  Both sexes             22     22.0   \n",
       "8                              Australia        Male             81     81.0   \n",
       "9                              Australia  Both sexes             80     80.0   \n",
       "10                             Australia  Both sexes             83     83.0   \n",
       "11                               Austria      Female             83     83.0   \n",
       "12                               Austria      Female             25     25.0   \n",
       "13                               Belgium      Female             83     83.0   \n",
       "14                               Bahrain        Male             73     73.0   \n",
       "15                               Bahrain      Female             74     74.0   \n",
       "16                               Bahrain        Male             17     17.0   \n",
       "17                               Bahamas        Male             72     72.0   \n",
       "18                               Bahamas  Both sexes             21     21.0   \n",
       "19                              Barbados        Male             71     71.0   \n",
       "20                              Barbados      Female             25     25.0   \n",
       "21                              Barbados  Both sexes             23     23.0   \n",
       "22                     Brunei Darussalam      Female             20     20.0   \n",
       "23                     Brunei Darussalam      Female             22     22.0   \n",
       "24                     Brunei Darussalam      Female             21     21.0   \n",
       "25                                Canada      Female             82     82.0   \n",
       "26                                Canada        Male             21     21.0   \n",
       "27                                Canada      Female             24     24.0   \n",
       "28                           Switzerland        Male             74     74.0   \n",
       "29                           Switzerland  Both sexes             83     83.0   \n",
       "...                                  ...         ...            ...      ...   \n",
       "4626                              Serbia      Female             67     67.0   \n",
       "4627                            Suriname  Both sexes             66     66.0   \n",
       "4628                              Sweden  Both sexes             72     72.0   \n",
       "4629                           Swaziland      Female             47     47.0   \n",
       "4630                          Seychelles        Male             61     61.0   \n",
       "4631                Syrian Arab Republic      Female             64     64.0   \n",
       "4632                                Chad      Female             44     44.0   \n",
       "4633                            Thailand        Male             59     59.0   \n",
       "4634                            Thailand      Female             65     65.0   \n",
       "4635                          Tajikistan  Both sexes             56     56.0   \n",
       "4636                          Tajikistan      Female             60     60.0   \n",
       "4637                               Tonga      Female             61     61.0   \n",
       "4638                 Trinidad and Tobago      Female             64     64.0   \n",
       "4639                 Trinidad and Tobago  Both sexes             61     61.0   \n",
       "4640                             Tunisia        Male             63     63.0   \n",
       "4641                              Tuvalu        Male             57     57.0   \n",
       "4642                              Uganda      Female             40     40.0   \n",
       "4643                             Ukraine  Both sexes             60     60.0   \n",
       "4644                             Uruguay        Male             65     65.0   \n",
       "4645                             Uruguay      Female             70     70.0   \n",
       "4646                             Uruguay  Both sexes             68     68.0   \n",
       "4647    Saint Vincent and the Grenadines  Both sexes             61     61.0   \n",
       "4648  Venezuela (Bolivarian Republic of)  Both sexes             66     66.0   \n",
       "4649                             Vanuatu        Male             59     59.0   \n",
       "4650                               Samoa        Male             62     62.0   \n",
       "4651                               Samoa      Female             66     66.0   \n",
       "4652                               Yemen  Both sexes             54     54.0   \n",
       "4653                        South Africa        Male             49     49.0   \n",
       "4654                              Zambia  Both sexes             36     36.0   \n",
       "4655                            Zimbabwe      Female             51     51.0   \n",
       "\n",
       "      Low  High  Comments  \n",
       "0     NaN   NaN       NaN  \n",
       "1     NaN   NaN       NaN  \n",
       "2     NaN   NaN       NaN  \n",
       "3     NaN   NaN       NaN  \n",
       "4     NaN   NaN       NaN  \n",
       "5     NaN   NaN       NaN  \n",
       "6     NaN   NaN       NaN  \n",
       "7     NaN   NaN       NaN  \n",
       "8     NaN   NaN       NaN  \n",
       "9     NaN   NaN       NaN  \n",
       "10    NaN   NaN       NaN  \n",
       "11    NaN   NaN       NaN  \n",
       "12    NaN   NaN       NaN  \n",
       "13    NaN   NaN       NaN  \n",
       "14    NaN   NaN       NaN  \n",
       "15    NaN   NaN       NaN  \n",
       "16    NaN   NaN       NaN  \n",
       "17    NaN   NaN       NaN  \n",
       "18    NaN   NaN       NaN  \n",
       "19    NaN   NaN       NaN  \n",
       "20    NaN   NaN       NaN  \n",
       "21    NaN   NaN       NaN  \n",
       "22    NaN   NaN       NaN  \n",
       "23    NaN   NaN       NaN  \n",
       "24    NaN   NaN       NaN  \n",
       "25    NaN   NaN       NaN  \n",
       "26    NaN   NaN       NaN  \n",
       "27    NaN   NaN       NaN  \n",
       "28    NaN   NaN       NaN  \n",
       "29    NaN   NaN       NaN  \n",
       "...   ...   ...       ...  \n",
       "4626  NaN   NaN       NaN  \n",
       "4627  NaN   NaN       NaN  \n",
       "4628  NaN   NaN       NaN  \n",
       "4629  NaN   NaN       NaN  \n",
       "4630  NaN   NaN       NaN  \n",
       "4631  NaN   NaN       NaN  \n",
       "4632  NaN   NaN       NaN  \n",
       "4633  NaN   NaN       NaN  \n",
       "4634  NaN   NaN       NaN  \n",
       "4635  NaN   NaN       NaN  \n",
       "4636  NaN   NaN       NaN  \n",
       "4637  NaN   NaN       NaN  \n",
       "4638  NaN   NaN       NaN  \n",
       "4639  NaN   NaN       NaN  \n",
       "4640  NaN   NaN       NaN  \n",
       "4641  NaN   NaN       NaN  \n",
       "4642  NaN   NaN       NaN  \n",
       "4643  NaN   NaN       NaN  \n",
       "4644  NaN   NaN       NaN  \n",
       "4645  NaN   NaN       NaN  \n",
       "4646  NaN   NaN       NaN  \n",
       "4647  NaN   NaN       NaN  \n",
       "4648  NaN   NaN       NaN  \n",
       "4649  NaN   NaN       NaN  \n",
       "4650  NaN   NaN       NaN  \n",
       "4651  NaN   NaN       NaN  \n",
       "4652  NaN   NaN       NaN  \n",
       "4653  NaN   NaN       NaN  \n",
       "4654  NaN   NaN       NaN  \n",
       "4655  NaN   NaN       NaN  \n",
       "\n",
       "[4656 rows x 12 columns]"
      ]
     },
     "execution_count": 16,
     "metadata": {},
     "output_type": "execute_result"
    }
   ],
   "source": [
    "import numpy as np\n",
    "import pandas\n",
    "\n",
    "def get_df():\n",
    "    data_frame = pandas.read_csv('./res4presentation/data-text.csv', sep=',')\n",
    "    return data_frame\n",
    "\n",
    "get_df()"
   ]
  },
  {
   "cell_type": "markdown",
   "metadata": {
    "deletable": true,
    "editable": true,
    "slideshow": {
     "slide_type": "slide"
    }
   },
   "source": [
    "## 3. Use markdown cell to keep notes"
   ]
  },
  {
   "cell_type": "markdown",
   "metadata": {
    "deletable": true,
    "editable": true
   },
   "source": [
    "There is a example of a markdown below. "
   ]
  },
  {
   "cell_type": "markdown",
   "metadata": {
    "deletable": true,
    "editable": true,
    "slideshow": {
     "slide_type": "subslide"
    }
   },
   "source": [
    "# A First Level Headline\n",
    "\n",
    "Use \\*word\\* to show *Italic* \n",
    "\n",
    "Use \\*\\*word\\*\\* to show **bold**. \n",
    "\n",
    "Itemized lists look like:\n",
    "\n",
    "  * this one\n",
    "  * that one\n",
    "\n",
    "Here's a numbered list:\n",
    "\n",
    " 1. first item\n",
    " 2. second item\n",
    " 3. third item\n",
    "\n",
    "## A Second Level Headline\n",
    "\n",
    "You can add code block into the cell like this:\n",
    "\n",
    "This is a python code block\n",
    "```Python\n",
    "import time\n",
    "# Quick, count from 0 to 9!\n",
    "for i in range(10):\n",
    "    # wait for a while\n",
    "    time.sleep(0.5)\n",
    "    print i\n",
    "```\n",
    "This is a C++ code block\n",
    "```C++\n",
    "#include<iostream>\n",
    "usig namespace std;\n",
    "int main(){\n",
    "cout<<\"Hello World!\"<<endl;\n",
    "}\n",
    "```\n",
    "\n",
    "### A Third Level Headline\n",
    "\n",
    "Here's a link to [a website](http://www.ucsc.edu), to a [local\n",
    "file](./Sample_im.jpg).\n",
    "\n",
    "Inline math equations go in like so: $\\int_0^{+\\infty} x^2 dx$. Display\n",
    "math should get its own line and be put in in double-dollarsigns:\n",
    "$$\\int_0^{+\\infty} x^2 dx$$\n",
    "Images can also be added into markdown cell\n",
    "\n",
    "<img src=\"./res4presentation/Sample_im.jpg\"\n",
    "style=\"width:320px;height:240px;float:center\">"
   ]
  },
  {
   "cell_type": "markdown",
   "metadata": {
    "deletable": true,
    "editable": true
   },
   "source": [
    "*Markdown example used from [here](http://www.unexpected-vortices.com/sw/rippledoc/quick-markdown-example.html#an-h2-header) with some edits*"
   ]
  },
  {
   "cell_type": "markdown",
   "metadata": {
    "deletable": true,
    "editable": true,
    "slideshow": {
     "slide_type": "subslide"
    }
   },
   "source": [
    "### i. Basic Text edit"
   ]
  },
  {
   "cell_type": "markdown",
   "metadata": {
    "deletable": true,
    "editable": true
   },
   "source": [
    "# A First Level Headline\n",
    "\n",
    "Use \\*word\\* to show *Italic* \n",
    "\n",
    "Use \\*\\*word\\*\\* to show **bold**. \n",
    "\n",
    "Itemized lists look like:\n",
    "\n",
    "  * this one\n",
    "  * that one\n",
    "\n",
    "Here's a numbered list:\n",
    "\n",
    " 1. first item\n",
    " 2. second item\n",
    " 3. third item\n"
   ]
  },
  {
   "cell_type": "markdown",
   "metadata": {
    "deletable": true,
    "editable": true,
    "slideshow": {
     "slide_type": "subslide"
    }
   },
   "source": [
    "### ii. Code Block"
   ]
  },
  {
   "cell_type": "markdown",
   "metadata": {
    "deletable": true,
    "editable": true
   },
   "source": [
    "Code block can be highlighted according to the language\n",
    "\n",
    "This is a python code block\n",
    "```Python\n",
    "import time\n",
    "# Quick, count from 0 to 9!\n",
    "for i in range(10):\n",
    "    # wait for a while\n",
    "    time.sleep(0.5)\n",
    "    print i\n",
    "```\n",
    "This is a C++ code block\n",
    "```C++\n",
    "#include<iostream>\n",
    "usig namespace std;\n",
    "int main(){\n",
    "cout<<\"Hello World!\"<<endl;\n",
    "}\n",
    "```"
   ]
  },
  {
   "cell_type": "markdown",
   "metadata": {
    "deletable": true,
    "editable": true,
    "slideshow": {
     "slide_type": "subslide"
    }
   },
   "source": [
    "### iii. Links"
   ]
  },
  {
   "cell_type": "markdown",
   "metadata": {
    "collapsed": false,
    "deletable": true,
    "editable": true
   },
   "source": [
    "[Link to offline Pictures](./res4presentation/Sample_im.jpg)\n",
    "\n",
    "[Link to online website](http://www.ucsc.edu)\n",
    "\n",
    "Another type of link <http://www.ucsc.edu>\n",
    "\n"
   ]
  },
  {
   "cell_type": "markdown",
   "metadata": {
    "deletable": true,
    "editable": true,
    "slideshow": {
     "slide_type": "subslide"
    }
   },
   "source": [
    "### iv. Latex\n",
    "Latex can also be used in Jupyter to write math expression"
   ]
  },
  {
   "cell_type": "markdown",
   "metadata": {
    "deletable": true,
    "editable": true
   },
   "source": [
    "This is an expression as a single expression\n",
    "$$\\int_0^2 x^2 dx$$\n",
    "\n",
    "Inline expression is also supported, for example, $\\int^2_0 x^2 dx$"
   ]
  },
  {
   "cell_type": "markdown",
   "metadata": {
    "deletable": true,
    "editable": true,
    "slideshow": {
     "slide_type": "subslide"
    }
   },
   "source": [
    "### v. Images\n",
    "\n",
    "Images can be added like links."
   ]
  },
  {
   "cell_type": "markdown",
   "metadata": {
    "deletable": true,
    "editable": true
   },
   "source": [
    "![Image](./res4presentation/Sample_im.jpg)"
   ]
  },
  {
   "cell_type": "markdown",
   "metadata": {
    "deletable": true,
    "editable": true
   },
   "source": [
    "We can use HTML style to edit image size and position\n",
    "\n",
    "<img src=\"./res4presentation/Sample_im.jpg\"\n",
    "style=\"width:320px;height:240px;float:left\"> "
   ]
  },
  {
   "cell_type": "markdown",
   "metadata": {
    "deletable": true,
    "editable": true,
    "slideshow": {
     "slide_type": "subslide"
    }
   },
   "source": [
    "### vi. Video\n",
    "We can also add videos in Jupyter"
   ]
  },
  {
   "cell_type": "code",
   "execution_count": 17,
   "metadata": {
    "collapsed": false,
    "deletable": true,
    "editable": true,
    "scrolled": false
   },
   "outputs": [
    {
     "data": {
      "text/html": [
       "<iframe width=\"560\" height=\"315\" src=\"https://www.youtube.com/embed/HW29067qVWk\" frameborder=\"0\" allowfullscreen></iframe>"
      ],
      "text/plain": [
       "<IPython.core.display.HTML object>"
      ]
     },
     "metadata": {},
     "output_type": "display_data"
    }
   ],
   "source": [
    "%%html\n",
    "<iframe width=\"560\" height=\"315\" src=\"https://www.youtube.com/embed/HW29067qVWk\" frameborder=\"0\" allowfullscreen></iframe>"
   ]
  },
  {
   "cell_type": "markdown",
   "metadata": {
    "deletable": true,
    "editable": true,
    "slideshow": {
     "slide_type": "slide"
    }
   },
   "source": [
    "## 4. Export \\*.ipynb file to other formats to share with others"
   ]
  },
  {
   "cell_type": "markdown",
   "metadata": {
    "deletable": true,
    "editable": true
   },
   "source": [
    "### i. Github\n",
    "\n",
    "Github can load \\*.ipynb file, here is [example1](https://github.com/jhwei/Jupyter_Tutorial/blob/master/Jupyter%20Notebook%20Presentation.ipynb) and [example2](https://github.com/jhwei/Jupyter_Tutorial/blob/master/Jupyter%20Notebook%20Presentation%20With%20Execution.ipynb)\n",
    "\n",
    "### ii. Export to other formats\n",
    "\n",
    "Goto **File**->**Download as** to select the file format you want to export to.\n",
    "\n",
    "Or you can type the following command in terminal\n",
    "```\n",
    "$ jupyter nbconvert --to FORMAT notebook.ipynb\n",
    "```\n",
    "\n",
    "* FORMAT means the file format you want to export to, such as, pdf, html\n",
    "* you may need to install latex and other software depending on your computer\n",
    "* please refer to the error to see if some software is missing if you don't succeed\n",
    "\n",
    "### iii. Several useful format\n",
    "\n",
    "* An example of [html without execution](./output_format/Jupyter+Notebook+Presentation.html) and [html with execution](./output_format/Jupyter+Notebook+Presentation+With+Execution.html)\n",
    "\n",
    "* An example of [pdf](./output_format/Jupyter+Notebook+Presentation.pdf) (using nbconvert) and [pdf](./output_format/Jupyter Notebook Presentation With Execution.pdf) (convert from html)\n",
    "* An example of [py](./output_format/Jupyter+Notebook+Presentation.py)"
   ]
  },
  {
   "cell_type": "markdown",
   "metadata": {
    "deletable": true,
    "editable": true,
    "slideshow": {
     "slide_type": "slide"
    }
   },
   "source": [
    "## 5. Useful Resources"
   ]
  },
  {
   "cell_type": "markdown",
   "metadata": {
    "deletable": true,
    "editable": true
   },
   "source": [
    "Offical Documentation <https://jupyter.readthedocs.io/en/latest/index.html>\n",
    "\n",
    "Markdown syntx Document from Github <https://guides.github.com/features/mastering-markdown/>\n",
    "\n",
    "Jupyter with other programming languages <https://github.com/jupyter/jupyter/wiki/Jupyter-kernels>\n",
    "\n",
    "Some nice Jupyter examples <http://nb.bianp.net/sort/views/>\n",
    "\n",
    "Another good Jupyter tutorial <https://github.com/welchr/csg-jupyter-tutorial>\n",
    "\n",
    "Turn Jupyter to presentation slides with RISE <https://github.com/damianavila/RISE> \n",
    "\n",
    "Combine Jupyter with WordPress <http://www.mianchen.com/wordpress-blogging-with-jupyter-notebook-in-five-simple-steps/>"
   ]
  }
 ],
 "metadata": {
  "kernelspec": {
   "display_name": "Python 2",
   "language": "python",
   "name": "python2"
  },
  "language_info": {
   "codemirror_mode": {
    "name": "ipython",
    "version": 2
   },
   "file_extension": ".py",
   "mimetype": "text/x-python",
   "name": "python",
   "nbconvert_exporter": "python",
   "pygments_lexer": "ipython2",
   "version": "2.7.12"
  }
 },
 "nbformat": 4,
 "nbformat_minor": 2
}
