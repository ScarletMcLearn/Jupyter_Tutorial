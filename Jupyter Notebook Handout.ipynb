{
 "cells": [
  {
   "cell_type": "markdown",
   "metadata": {
    "deletable": true,
    "editable": true
   },
   "source": [
    "<img src=\"http://blog.jupyter.org/content/images/2015/02/jupyter-sq-text.png\"\n",
    "style=\"width:100px;height:100px;float:right\">\n",
    "# Jupyter Notebook Tutorial (Handout Version)\n",
    "\n",
    "#### Presented by Jiahui Wei\n",
    "\n",
    "This is a Jupyter Notebook tutorial handout. Used for Presentation at CMPS263 Winter 2017."
   ]
  },
  {
   "cell_type": "markdown",
   "metadata": {
    "deletable": true,
    "editable": true
   },
   "source": [
    "The handout will include:\n",
    "* A brief introduction of Jupyter Notebook\n",
    "* run python code in Jupyter\n",
    "* interactive Jupyter\n",
    "* markdown cell in Jupyter\n",
    "* export ipynb file to other format"
   ]
  },
  {
   "cell_type": "markdown",
   "metadata": {
    "deletable": true,
    "editable": true
   },
   "source": [
    "## 1. What is Jupyter Notebook?"
   ]
  },
  {
   "cell_type": "markdown",
   "metadata": {
    "deletable": true,
    "editable": true
   },
   "source": [
    "A web-based application for creating documents of code, visualizations, and text. It supports multiple languages (primary language is Python, but R works as well, as well as Julia.)\n",
    "\n",
    "*Defination used from [here](https://github.com/welchr/csg-jupyter-tutorial/blob/master/csg_jupyter_tutorial.ipynb)*\n",
    "\n",
    "The notebook contains cells of multiple types, the two most important types are:\n",
    "* Markdown\n",
    "* Code\n",
    "\n",
    "Code cells can run a lot of different languages depending on the kernels you installed:\n",
    "* Python\n",
    "* R\n",
    "* Bash\n",
    "* C++\n",
    "* ..."
   ]
  },
  {
   "cell_type": "markdown",
   "metadata": {
    "deletable": true,
    "editable": true
   },
   "source": [
    "## 2. What can you do with Jupyter Notebook?"
   ]
  },
  {
   "cell_type": "markdown",
   "metadata": {
    "deletable": true,
    "editable": true
   },
   "source": [
    "Exploratory data analysis\n",
    "\n",
    "* Keep code, data, and plots together in one place\n",
    "* Easy to keep track of the formats of different data frames, column types, etc. \n",
    "* When working with collaborators, you can make quick changes or try different things, without having to go back and re-generate plots for one-off ideas\n",
    "\n",
    "Creating reports of analysis results to share with collaborators\n",
    "\n",
    "* Compile notebook into HTML documents to share - single document with interactive (or static) plots and text\n",
    "* If data changes, simple to re-run entire notebook and generate the report again\n",
    "\n",
    "Teaching demonstrations\n",
    "\n",
    "* Create a full lecture, but still allow on-the-fly coding/questions\n",
    "\n",
    "Reproducible research\n",
    "\n",
    "* Send data + notebook and collaborators can re-run your analysis\n",
    "* Add Docker, and they don't need to install any packages either\n",
    "\n",
    "Visualizing a \"proof\" that an algorithm or function works correctly\n",
    "\n",
    "* Keep a notebook next to your code, e.g. invnorm.py and invnorm.ipynb. \n",
    "* This way, if tables or figures make it easier to show that your code works correctly, they will be near the actual code and easy to find\n",
    "* Not a substitute for writing test cases\n",
    "\n",
    "*Functionalities list above used from [here](https://github.com/welchr/csg-jupyter-tutorial/blob/master/csg_jupyter_tutorial.ipynb)*"
   ]
  },
  {
   "cell_type": "markdown",
   "metadata": {
    "deletable": true,
    "editable": true
   },
   "source": [
    "## 3. How to install Jupyter?"
   ]
  },
  {
   "cell_type": "markdown",
   "metadata": {
    "deletable": true,
    "editable": true
   },
   "source": [
    "### Using pip\n",
    "\n",
    "Install Jupyter and iPython with the following command:\n",
    "\n",
    "```\n",
    "$ sudo pip install Jupyter\n",
    "\n",
    "$ sudo pip install ipython\n",
    "```\n",
    "\n",
    "* you may not need to use *sudo* depend on your operation system\n",
    "\n",
    "### Using Anaconda and conda\n",
    "\n",
    "Jupyter can also be installed using Anaconda and conda. More information on installation of Jupyter can be found [here](https://jupyter.readthedocs.io/en/latest/install.html)\n",
    "\n",
    "* you may need to install other packages to use Jupyter with languages other than Python"
   ]
  },
  {
   "cell_type": "markdown",
   "metadata": {
    "deletable": true,
    "editable": true
   },
   "source": [
    "## 4. How to run Jupyter?"
   ]
  },
  {
   "cell_type": "markdown",
   "metadata": {
    "deletable": true,
    "editable": true
   },
   "source": [
    "### Run Jupyter on your local computer\n",
    "\n",
    "On Windows, there should be an shortcut for Jupyter.\n",
    "\n",
    "On Mac OS or linux, just type the following command in a terminal:\n",
    "```\n",
    "$ jupyter notebook\n",
    "```\n",
    "\n",
    "### Run Jupyter on a remote server or Docker\n",
    "\n",
    "You can also run a notebook server on a remote server or docker and use your local computer browser to edit files and run files.\n",
    "\n",
    "More information can be found at [remote server](http://jupyter-notebook.readthedocs.io/en/latest/public_server.html) and [Docker](https://www.dataquest.io/blog/docker-data-science/)"
   ]
  },
  {
   "cell_type": "markdown",
   "metadata": {
    "deletable": true,
    "editable": true
   },
   "source": [
    "## 5. Basic Use"
   ]
  },
  {
   "cell_type": "markdown",
   "metadata": {
    "deletable": true,
    "editable": true
   },
   "source": [
    "Using Jupyter is easy. Just type code or commands in a cell and run it.\n",
    "\n",
    "Click **Cell**->**Run Cells** or use **Ctrl+Enter** to run a cell.\n",
    "\n",
    "### Keyboard Shortcuts\n",
    "\n",
    "Keyboard shortcuts are very useful for using Jupyter. To see all the keyboard shortcuts, click **Help**->**Keyboard Shortcuts**"
   ]
  },
  {
   "cell_type": "markdown",
   "metadata": {
    "deletable": true,
    "editable": true
   },
   "source": [
    "## 6. Switch betwen Python 2 and Python 3"
   ]
  },
  {
   "cell_type": "markdown",
   "metadata": {
    "deletable": true,
    "editable": true
   },
   "source": [
    "To switch betwen Python 2 and Python 3 in Jupyter, Just switch the kernel by clicking **Kernel**->**Change Kernel**. To switch between different languages, install the language kernel and switch the kernel you use.\n",
    "\n",
    "If you cannot find Python2 or Python3 in **Change Kernel**, you may not install the corresponding kernel.\n",
    "\n",
    "### Install the other Python kernel using pip\n",
    "\n",
    "If you are using Python 3, you can set up Python 2 like this:\n",
    "\n",
    "```\n",
    "$ sudo python2 -m pip install ipykernel\n",
    "\n",
    "$ sudo python2 -m ipykernel install --user\n",
    "```\n",
    "\n",
    "* you may not need to use *sudo* depend on your operation system\n",
    "\n",
    "Change **python2** to **python3** if you are using Python 2 and want to set up Python 3.\n",
    "\n",
    "### install the other Python Kernel using Conda\n",
    "\n",
    "If you are using Conda, try the following commands:\n",
    "\n",
    "    # Python 2.7\n",
    "```\n",
    "conda create -n py27 python=2.7 ipykernel\n",
    "```\n",
    "    # Python 3.5\n",
    "```\n",
    "conda create -n py35 python=3.5 ipykernel\n",
    "```\n",
    "* I am not using conda or Anaconda, so go [here](https://ipython.readthedocs.io/en/latest/install/kernel_install.html) to find more information."
   ]
  }
 ],
 "metadata": {
  "kernelspec": {
   "display_name": "Python 2",
   "language": "python",
   "name": "python2"
  },
  "language_info": {
   "codemirror_mode": {
    "name": "ipython",
    "version": 2
   },
   "file_extension": ".py",
   "mimetype": "text/x-python",
   "name": "python",
   "nbconvert_exporter": "python",
   "pygments_lexer": "ipython2",
   "version": "2.7.12"
  }
 },
 "nbformat": 4,
 "nbformat_minor": 2
}
